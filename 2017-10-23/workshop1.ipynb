{
 "cells": [
  {
   "cell_type": "markdown",
   "metadata": {},
   "source": [
    "Laboratorio 23-10-2017\n",
    "================"
   ]
  },
  {
   "cell_type": "markdown",
   "metadata": {},
   "source": [
    "Workshop 1\n",
    "=========="
   ]
  },
  {
   "cell_type": "markdown",
   "metadata": {
    "collapsed": true
   },
   "source": [
    "Tavolino\n",
    "==================="
   ]
  },
  {
   "cell_type": "markdown",
   "metadata": {},
   "source": [
    "DEF Leg = CUBOID:< 0.1,0.1,0.7 >;\n",
    "\n",
    "DEF Plane = CUBOID:< 1, 1, 0.2>;\n",
    "\n",
    "DEF Table = STRUCT:<Leg, T:1:0.9, Leg, T:2:0.9, Leg, T:1:-0.9, Leg,T:<2,3>:<-0.9,0.7>, Plane >;\n",
    "\n",
    "DEF Table1 = STRUCT:<Leg, T:1:0.9:Leg, T:<1,2>:<0.9,0.9>:Leg, T:2:0.9:Leg,T:3:0.7:Plane >;\n",
    "\n",
    "VRML: Table: \u0001 out.wrl \u0001 ;"
   ]
  },
  {
   "cell_type": "code",
   "execution_count": 1,
   "metadata": {
    "collapsed": false
   },
   "outputs": [
    {
     "name": "stdout",
     "output_type": "stream",
     "text": [
      "Evaluating fenvs.py..\n",
      "...fenvs.py imported in 0.00931 seconds\n"
     ]
    },
    {
     "name": "stderr",
     "output_type": "stream",
     "text": [
      "/usr/local/lib/python2.7/dist-packages/larlib/larstruct.py:233: FutureWarning: comparison to `None` will result in an elementwise object comparison in the future.\n",
      "  self.body = [item for item in data if item != None]\n"
     ]
    },
    {
     "data": {
      "text/plain": [
       "<pyplasm.xgepy.Hpc; proxy of <Swig Object of type 'std::shared_ptr< Hpc > *' at 0xb5143f68> >"
      ]
     },
     "execution_count": 1,
     "metadata": {},
     "output_type": "execute_result"
    }
   ],
   "source": [
    "from larlib import *\n",
    "\n",
    "leg = CUBOID([0.1,0.1,0.7 ])\n",
    "plane = CUBOID([1, 1, 0.2])\n",
    "table = STRUCT([T([1,2])([0.9,0.9])(leg),plane,leg,T(1)(0.9)(leg),T(2)(0.9)(leg)])\n",
    "VIEW(table)"
   ]
  },
  {
   "cell_type": "markdown",
   "metadata": {
    "collapsed": true
   },
   "source": [
    "![tavolino](tav1.png)"
   ]
  },
  {
   "cell_type": "markdown",
   "metadata": {},
   "source": [
    "![tavolino2](tav2.png)"
   ]
  },
  {
   "cell_type": "markdown",
   "metadata": {},
   "source": [
    "Schletro shape\n",
    "================="
   ]
  },
  {
   "cell_type": "markdown",
   "metadata": {},
   "source": [
    "DEF L shape1 = MKPOL:< verts, cells, pols >\n",
    "\n",
    "WHERE\n",
    "\n",
    "\n",
    "verts = <<0,0>,<2,0>,<2,1>,<1,1>,<1,2>,<0,2>>,\n",
    "\n",
    "cells = <<1,2,3,4>,<4,5,6,1>>,\n",
    "\n",
    "pols = <<1>,<2>>\n",
    "\n",
    "END;\n",
    "\n",
    "DEF L shape2 = MKPOL:< verts, cells, pols >\n",
    "\n",
    "WHERE\n",
    "\n",
    "verts = <<0,0>,<2,0>,<2,1>,<1,1>,<1,2>,<0,2>>,\n",
    "\n",
    "cells = <<1,2,3,4>,<4,5,6,1>>,\n",
    "\n",
    "pols = <<1,2>>\n",
    "\n",
    "END;"
   ]
  },
  {
   "cell_type": "code",
   "execution_count": 2,
   "metadata": {
    "collapsed": false
   },
   "outputs": [
    {
     "data": {
      "text/plain": [
       "<pyplasm.xgepy.Hpc; proxy of <Swig Object of type 'std::shared_ptr< Hpc > *' at 0xad422998> >"
      ]
     },
     "execution_count": 2,
     "metadata": {},
     "output_type": "execute_result"
    }
   ],
   "source": [
    "from larlib import *\n",
    "\n",
    "verts = [(0,0),(2,0),(2,1),(1,1),(1,2),(0,2)]\n",
    "cells = [(1,2,3,4),(4,5,6,1)]\n",
    "pols = [1,2]\n",
    "VIEW(MKPOL([verts,cells,pols]))"
   ]
  },
  {
   "cell_type": "markdown",
   "metadata": {},
   "source": [
    "![skel1](skel1.png)"
   ]
  },
  {
   "cell_type": "code",
   "execution_count": 3,
   "metadata": {
    "collapsed": false
   },
   "outputs": [
    {
     "data": {
      "text/plain": [
       "<pyplasm.xgepy.Hpc; proxy of <Swig Object of type 'std::shared_ptr< Hpc > *' at 0xad422c68> >"
      ]
     },
     "execution_count": 3,
     "metadata": {},
     "output_type": "execute_result"
    }
   ],
   "source": [
    "from larlib import *\n",
    "\n",
    "verts = [(0,0),(2,0),(2,1),(1,1),(1,2),(0,2)]\n",
    "cells = [(1,2,3,4),(4,5,6,1)]\n",
    "pols = [1,2]\n",
    "VIEW(SKEL_1(MKPOL([verts,cells,pols])))"
   ]
  },
  {
   "cell_type": "markdown",
   "metadata": {},
   "source": [
    "![skel2](skel2.png)"
   ]
  },
  {
   "cell_type": "code",
   "execution_count": 4,
   "metadata": {
    "collapsed": false
   },
   "outputs": [
    {
     "data": {
      "text/plain": [
       "<pyplasm.xgepy.Hpc; proxy of <Swig Object of type 'std::shared_ptr< Hpc > *' at 0xad422b78> >"
      ]
     },
     "execution_count": 4,
     "metadata": {},
     "output_type": "execute_result"
    }
   ],
   "source": [
    "from larlib import *\n",
    "\n",
    "verts = [(0,0),(2,0),(2,1),(1,1),(1,2),(0,2),(0,0)]\n",
    "\n",
    "VIEW(SKEL_1(POLYLINE(verts)))"
   ]
  },
  {
   "cell_type": "markdown",
   "metadata": {},
   "source": [
    "![scheletro3](skel3.png)"
   ]
  },
  {
   "cell_type": "code",
   "execution_count": 5,
   "metadata": {
    "collapsed": false
   },
   "outputs": [
    {
     "data": {
      "text/plain": [
       "<pyplasm.xgepy.Hpc; proxy of <Swig Object of type 'std::shared_ptr< Hpc > *' at 0xad422b18> >"
      ]
     },
     "execution_count": 5,
     "metadata": {},
     "output_type": "execute_result"
    }
   ],
   "source": [
    "\n",
    "def verts(): return ([[0, 0, 0], [1, 0, 0], [0, 1, 0], [1, 1, 0], [0, 0, 1], [1, 0, 1], [0, 1, 1], [1, 1, 1]]);\n",
    "\n",
    "def pol1D():\n",
    "\n",
    "    cells = [[1, 4], [2, 4], [4, 8]]\n",
    "    pols = [[1, 2, 3]]\n",
    "    result= MKPOL([verts(), cells, pols])\n",
    "    return result;\n",
    "\n",
    "def pol2D():\n",
    "\n",
    "    result = MKPOL([verts(), [[1, 2, 3, 4], [2, 4, 8]], [[1], [2]]])\n",
    "    return result;\n",
    "\n",
    "def pol3D():\n",
    "\n",
    "    result= MKPOL([verts(), [[1, 2, 3, 5], [2, 3, 4, 8]], [[1, 2]]])\n",
    "    return result;\n",
    "\n",
    "def unione():\n",
    "\n",
    "    result= MKPOL([verts(), [[1, 2, 3, 5], [2, 3, 4], [4, 8]], [[1, 2, 3]]])\n",
    "    return result;\n",
    "\n",
    "VIEW(pol1D())\n",
    "VIEW(pol2D())\n",
    "VIEW(pol3D())\n",
    "VIEW(unione())"
   ]
  },
  {
   "cell_type": "markdown",
   "metadata": {},
   "source": [
    "![giochipol](n1.png)"
   ]
  },
  {
   "cell_type": "markdown",
   "metadata": {
    "collapsed": true
   },
   "source": [
    "![giochipol](n2.png)"
   ]
  },
  {
   "cell_type": "markdown",
   "metadata": {
    "collapsed": true
   },
   "source": [
    "![giochipol](n3.png)"
   ]
  },
  {
   "cell_type": "markdown",
   "metadata": {
    "collapsed": true
   },
   "source": [
    "![giochipol](n4.png)"
   ]
  },
  {
   "cell_type": "markdown",
   "metadata": {},
   "source": [
    "Manhattan\n",
    "=========="
   ]
  },
  {
   "cell_type": "code",
   "execution_count": 9,
   "metadata": {
    "collapsed": true
   },
   "outputs": [],
   "source": [
    "from larlib import *\n",
    "\n",
    "\n",
    "\n",
    "\n",
    "\n",
    "def Manhattan2D():\n",
    "    verts = [[0, 0], [3, 0], [5, 0], [7, 0], [8, 0], [9.5, 1], [10, 1.5], [0, 3], [3, 3], [5, 3], [7, 3], [8, 3],\n",
    "             [9.5, 3], [0, 4], [3, 4], [5, 4], [9.5, 4], [12, 4], [9.5, 5], [10, 5], [12, 5], [0, 6], [3, 6], [5, 6],\n",
    "             [0, 7], [3, 7], [5, 7], [9.5, 7], [12, 7], [9.5, 8], [12, 8], [0, 9], [3, 9], [5, 9], [8, 9], [9, 9],\n",
    "             [12, 9], [0, 10], [3, 10], [5, 10], [8, 10], [9, 10], [9.5, 10], [10, 10], [12, 10], [6, 11], [7, 11],\n",
    "             [0, 12], [3, 12], [9, 12], [9.5, 12], [0, 13], [3, 13], [6, 13], [7, 13], [9, 13], [9.5, 13], [0, 14],\n",
    "             [3, 14], [5, 14], [8, 14], [9, 14], [9.5, 14], [10, 14], [12, 14], [0, 15], [3, 15], [5, 15], [8, 15],\n",
    "             [0, 16], [6, 16], [7, 16], [9, 17], [9.5, 17], [10, 17], [12, 17], [6, 18], [7, 18], [9, 18], [9.5, 18],\n",
    "             [10, 18], [12, 18], [2, 19], [3, 19], [5, 19], [8, 19], [9, 19], [9.5, 19], [10, 19], [12, 19], [5, 20],\n",
    "             [12, 20], [7, 22], [10, 22], [9, 6], [12, 6], [9, 15], [9.5, 15], [10, 15], [12, 15]]\n",
    "\n",
    "    cells = [[1, 2, 9, 8], [3, 4, 11, 10], [5, 6, 13, 12], [14, 15, 23, 22], [16, 17, 19, 24], [7, 18, 21, 20],\n",
    "             [25, 26, 33, 32], [27, 95, 28, 35, 34], [95, 96, 29, 28], [30, 31, 37, 36], [38, 39, 49, 48],\n",
    "             [40, 41, 47, 46], [41, 61, 55, 47], [55, 61, 60, 54], [54, 60, 40, 46], [42, 43, 51, 50], [44, 45, 65, 64],\n",
    "             [52, 53, 59, 58], [56, 57, 63, 62], [66, 67, 84, 83, 70], [68, 69, 72, 71], [69, 86, 78, 72],\n",
    "             [78, 86, 85, 77], [71, 77, 85, 68], [97, 98, 74, 73], [99, 100, 76, 75], [79, 80, 88, 87],\n",
    "             [81, 82, 90, 89], [91, 92, 94, 93]]\n",
    "\n",
    "    pols = range(1, 27)\n",
    "\n",
    "    return MKPOL([verts, cells, AA(LIST)(pols)])\n",
    "\n",
    "VIEW(Manhattan2D())\n",
    "\n",
    "\n",
    "\n",
    "def MultExtrude(p, h):\n",
    "    MyCells = COMP([ AA(LIST), S2, UKPOL ])(p)\n",
    "    MyVerts = COMP([S1, UKPOL])(p)\n",
    "    ThePolSeq = COMP([ REVERSE, AA(MKPOL), AA(CAT), DISTR])([ DISTL([MyVerts, MyCells ]), [[[1]]] ])\n",
    "\n",
    "    return COMP([ STRUCT, AA(PROD), TRANS ])([ ThePolSeq, AA(Q)(h) ])\n",
    "\n",
    "GrowingH = range(1, 29)\n",
    "\n",
    "ManhattanH = [1,3,1,11,1,0.2,1,0.1,1,8,15,1,1,1,1,8,1,15,8,1,2,2,2,2,5,9,1,1,1]\n",
    "\n",
    "part1 = (MultExtrude(Manhattan2D(), GrowingH))\n",
    "\n",
    "part2 = (MultExtrude(Manhattan2D(), ManhattanH))\n",
    "\n",
    "VIEW(part1)\n",
    "\n",
    "VIEW(part2)\n",
    "\n",
    "VIEW(STRUCT([ T([1,2,3])([0, 0, 0])(part1), T([1,2,3])([20, 20, 0])(part2) ] ))\n",
    "\n",
    "quit()"
   ]
  },
  {
   "cell_type": "markdown",
   "metadata": {},
   "source": [
    "![manhattan2d](man2d.png)"
   ]
  },
  {
   "cell_type": "markdown",
   "metadata": {},
   "source": [
    "![manhattan3d](man3d.png)"
   ]
  },
  {
   "cell_type": "markdown",
   "metadata": {},
   "source": [
    "![manhattanp1](man1.png)"
   ]
  },
  {
   "cell_type": "markdown",
   "metadata": {},
   "source": [
    "![manhattanstruso](manstrud.png)"
   ]
  },
  {
   "cell_type": "markdown",
   "metadata": {
    "collapsed": true
   },
   "source": [
    "Giocando con le funzioni\n",
    "======================="
   ]
  },
  {
   "cell_type": "code",
   "execution_count": 4,
   "metadata": {
    "collapsed": false
   },
   "outputs": [
    {
     "data": {
      "text/plain": [
       "<pyplasm.xgepy.Hpc; proxy of <Swig Object of type 'std::shared_ptr< Hpc > *' at 0xad456ea8> >"
      ]
     },
     "execution_count": 4,
     "metadata": {},
     "output_type": "execute_result"
    }
   ],
   "source": [
    "from larlib import *\n",
    "a=T([1,2])([-0.5,-0.5])(CUBOID([1,1,1]))\n",
    "b=R([1,2])(PI/4)(a)\n",
    "VIEW(STRUCT([SUM([a,b]),T(1)(2)(INTERSECTION([a,b])),T(1)(4)(XOR([a,b])),T(1)(6)(DIFFERENCE([a,b]))]))"
   ]
  },
  {
   "cell_type": "markdown",
   "metadata": {},
   "source": [
    "![strusionivarie](varie1.png)"
   ]
  },
  {
   "cell_type": "markdown",
   "metadata": {},
   "source": [
    "Cilindri\n",
    "-------------"
   ]
  },
  {
   "cell_type": "code",
   "execution_count": 6,
   "metadata": {
    "collapsed": false
   },
   "outputs": [
    {
     "data": {
      "text/plain": [
       "<pyplasm.xgepy.Hpc; proxy of <Swig Object of type 'std::shared_ptr< Hpc > *' at 0xad422a40> >"
      ]
     },
     "execution_count": 6,
     "metadata": {},
     "output_type": "execute_result"
    }
   ],
   "source": [
    "\n",
    "a = COLOR([1.0, 0, 0])(MY_CYLINDER([1, 1])(4))\n",
    "b = COLOR([1.0, 0.5, 0.5])(T(1)(3)(MY_CYLINDER([1, 2])(8)))\n",
    "c = COLOR([1.0, 1, 0.5])(T(1)(6)(MY_CYLINDER([1.5, 3])(16)))\n",
    "d = COLOR([0.5, 0.5, 1])(T(1)(10)(MY_CYLINDER([2, 4])(20)))\n",
    "e = COLOR([0.5, 1, 1])(T(1)(15)(MY_CYLINDER([2.25, 5])(25)))\n",
    "f = COLOR([0.5, 1, 0.5])(T(1)(20)(MY_CYLINDER([2.5, 6])(30)))\n",
    "b1 = COLOR([1.0, 0.5, 0.])(T(1)(-3)(MY_CYLINDER([1, 2])(8)))\n",
    "c1 = COLOR([1.0, 1, 0.5])(T(1)(-6)(MY_CYLINDER([1.5, 3])(16)))\n",
    "d1 = COLOR([0.5, 0.5, 1])(T(1)(-10)(MY_CYLINDER([2, 4])(20)))\n",
    "e1 = COLOR([0.5, 1, 1])(T(1)(-15)(MY_CYLINDER([2.25, 5])(25)))\n",
    "f1 = COLOR([0.5, 1, 0.5])(T(1)(-20)(MY_CYLINDER([2.5, 6])(30)))\n",
    "\n",
    "VIEW(STRUCT([a, b, c, d,e,f,b1,c1,d1,e1,f1]))"
   ]
  },
  {
   "cell_type": "markdown",
   "metadata": {},
   "source": [
    "![cilindri](varie2.png)"
   ]
  },
  {
   "cell_type": "markdown",
   "metadata": {},
   "source": [
    "![cilindri](varie3.png)"
   ]
  },
  {
   "cell_type": "code",
   "execution_count": 41,
   "metadata": {
    "collapsed": false
   },
   "outputs": [
    {
     "data": {
      "text/plain": [
       "<pyplasm.xgepy.Hpc; proxy of <Swig Object of type 'std::shared_ptr< Hpc > *' at 0xac967bc0> >"
      ]
     },
     "execution_count": 41,
     "metadata": {},
     "output_type": "execute_result"
    }
   ],
   "source": [
    "def cube(): return CUBOID([1, 1, 1]);\n",
    "def cube3(): return COLOR(GREEN)(cube());\n",
    "def cube2(): return COLOR(WHITE)(cube());\n",
    "def cube1(): return COLOR(RED)(cube());\n",
    "def basis(): return COLOR(BLUE)(STRUCT([EMBED(1), CUBOID([3, 3])]));\n",
    "def assembly(): return TOP([TOP([cube1(), cube2()]), cube3()]);\n",
    "def out(): return TOP([basis(), assembly()]);\n",
    "VIEW(out())\n",
    "VIEW(SKEL_1(out()))\n",
    "VIEW(TOP([basis(), SKEL_1(assembly())]))\n",
    "VIEW(TOP([basis(), COLOR(WHITE)(SWEEP([0.2, 0.2, 0.2])(SKEL_1(assembly())))]))\n",
    "VIEW(TOP([basis(), COLOR(WHITE)(OFFSET([0.1, 0.1, 0.1])(SKEL_1(assembly())))]))\n",
    "VIEW(TOP([basis(), STRUCT([COLOR(WHITE)(OFFSET([0.1, 0.1, 0.1])(SKEL_1(assembly()))), assembly()])]))"
   ]
  },
  {
   "cell_type": "markdown",
   "metadata": {},
   "source": [
    "![giochi](c2.png)"
   ]
  },
  {
   "cell_type": "markdown",
   "metadata": {
    "collapsed": true
   },
   "source": [
    "![giochi](c3.png)"
   ]
  },
  {
   "cell_type": "markdown",
   "metadata": {
    "collapsed": true
   },
   "source": [
    "![giochi](c4.png)"
   ]
  },
  {
   "cell_type": "markdown",
   "metadata": {
    "collapsed": true
   },
   "source": [
    "![giochi](c1.png)"
   ]
  },
  {
   "cell_type": "markdown",
   "metadata": {
    "collapsed": true
   },
   "source": [
    "![giochi](c5.png)"
   ]
  },
  {
   "cell_type": "markdown",
   "metadata": {
    "collapsed": true
   },
   "source": [
    "![giochi](c6.png)"
   ]
  },
  {
   "cell_type": "code",
   "execution_count": null,
   "metadata": {
    "collapsed": true
   },
   "outputs": [],
   "source": []
  }
 ],
 "metadata": {
  "kernelspec": {
   "display_name": "Python 2",
   "language": "python",
   "name": "python2"
  },
  "language_info": {
   "codemirror_mode": {
    "name": "ipython",
    "version": 2
   },
   "file_extension": ".py",
   "mimetype": "text/x-python",
   "name": "python",
   "nbconvert_exporter": "python",
   "pygments_lexer": "ipython2",
   "version": "2.7.12"
  }
 },
 "nbformat": 4,
 "nbformat_minor": 1
}
