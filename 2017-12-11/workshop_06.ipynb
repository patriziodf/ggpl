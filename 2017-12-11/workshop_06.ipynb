{
 "cells": [
  {
   "cell_type": "markdown",
   "metadata": {},
   "source": [
    "Laboratorio 2017-12-11\n",
    "------------\n",
    "Modello geometrico di S.Stefano Rotondo al Celio modello della Gerusalemme Celeste\n",
    "=================="
   ]
  },
  {
   "cell_type": "markdown",
   "metadata": {},
   "source": [
    "\n",
    "\n",
    "  Mappa cilindrica con scala esterna\n",
    "  -------"
   ]
  },
  {
   "cell_type": "markdown",
   "metadata": {},
   "source": [
    "-----------------------------"
   ]
  },
  {
   "cell_type": "code",
   "execution_count": 2,
   "metadata": {
    "collapsed": false
   },
   "outputs": [
    {
     "name": "stdout",
     "output_type": "stream",
     "text": [
      "Evaluating fenvs.py..\n",
      "...fenvs.py imported in 0.009588 seconds\n"
     ]
    }
   ],
   "source": [
    "from pyplasm import *\n",
    "from math import *\n",
    "\n",
    "#-- 1 cubito = 444 mm ----------------------------------------#\n",
    "r0 = 24. #---cubiti raggio interno del muro interno------#\n",
    "r2 = 48. #---cubiti raggio esterno del muro medio--------#\n",
    "r3 = 72. #---cubiti raggio esterno del muro esterno------#\n",
    "r4 = 88. #---cubiti raggio esterno scale esterne---------#\n",
    "wsteps = 10.  #---cubiti profondita' scale esterne-------#\n",
    "nsteps = 10.  #---numero alzate/pedate scale esterne------#\n",
    "wstep = wsteps/nsteps #---cubiti larghezza pedata-------#\n",
    "hstep = 1./3 #---cubiti altezza alzata-------------------#\n",
    "hw4 = 29. #--cubiti altezza all'imposta del muro esterno-#\n",
    "hbasament = hstep*nsteps\n",
    "\n",
    "def cylMap(dev=True):\n",
    "    if dev:\n",
    "        return MAP([lambda p: (p[1]) * math.cos(p[0]), lambda p: (p[1]) * math.sin(p[0]), lambda p: (p[2])])\n",
    "    else:\n",
    "        return MAP([lambda p: (p[1]) * math.sin(p[0]), lambda p: (p[1]) * math.cos(p[0]), lambda p: (p[2])])\n",
    "\n",
    "\n",
    "#\n",
    "# Mappa cilindrica\n",
    "#\n",
    "\n",
    "def cylMap(dev=True):\n",
    "    if dev:\n",
    "        return MAP([lambda p: (p[1]) * math.cos(p[0]), lambda p: (p[1]) * math.sin(p[0]), lambda p: (p[2])])\n",
    "    else:\n",
    "        return MAP([lambda p: (p[1]) * math.sin(p[0]), lambda p: (p[1]) * math.cos(p[0]), lambda p: (p[2])])\n",
    "\n",
    "\n",
    "#\n",
    "# Scala esterna\n",
    "#\n",
    "\n",
    "def vdom(h):\n",
    "    return PROD([\n",
    "        COMP([\n",
    "            EMBED(1),\n",
    "            INTERVALS(PI * 3 / 24)\n",
    "        ])(3),\n",
    "        QUOTE([h])\n",
    "    ])\n",
    "\n",
    "\n",
    "def hdom(w):\n",
    "    return COMP([S(2)(-1), EMBED(1)])(PROD([INTERVALS(PI * 3 / 24)(3), QUOTE([w])]))\n",
    "\n",
    "\n",
    "def steps(w, h):\n",
    "    def steps1(n):\n",
    "        return COMP([STRUCT, CAT, N(n)])([vdom(h), T(3)(h), hdom(w), T(2)(-w)])\n",
    "\n",
    "    return steps1\n",
    "\n",
    "hbasament = hstep * nsteps\n",
    "stair = RIGHT([\n",
    "    COMP([MKPOL, UKPOL])(steps(wstep, hstep)(nsteps)),\n",
    "    COMP([S(2)(-1), SKEL_2, CUBOID])([PI / 24, wsteps, hbasament])\n",
    "])\n",
    "ramp = cylMap()(T(2)(r4)(stair))\n",
    "stairs = STRUCT(NN(12)([ramp, R([1, 2])(PI / 6)]))\n"
   ]
  },
  {
   "cell_type": "code",
   "execution_count": 5,
   "metadata": {
    "collapsed": false
   },
   "outputs": [
    {
     "data": {
      "text/plain": [
       "<pyplasm.xgepy.Hpc; proxy of <Swig Object of type 'std::shared_ptr< Hpc > *' at 0xb516ebc0> >"
      ]
     },
     "execution_count": 5,
     "metadata": {},
     "output_type": "execute_result"
    }
   ],
   "source": [
    "VIEW(stairs)"
   ]
  },
  {
   "cell_type": "markdown",
   "metadata": {},
   "source": [
    "![scalinata ravvicinata](./immagini/scala1.png)"
   ]
  },
  {
   "cell_type": "markdown",
   "metadata": {
    "collapsed": true
   },
   "source": [
    "![scalinata dall'alto'](./immagini/scala2.png)"
   ]
  },
  {
   "cell_type": "markdown",
   "metadata": {},
   "source": [
    "------------------"
   ]
  },
  {
   "cell_type": "markdown",
   "metadata": {},
   "source": [
    "        \n",
    "        \n",
    "Basamento\n",
    "----------"
   ]
  },
  {
   "cell_type": "markdown",
   "metadata": {},
   "source": [
    "-----------------------"
   ]
  },
  {
   "cell_type": "code",
   "execution_count": 3,
   "metadata": {
    "collapsed": false
   },
   "outputs": [],
   "source": [
    "basisSector = COMP([cylMap(False), EMBED(1)])(\n",
    "    PROD([INTERVALS(2 * PI / 12)(4), INTERVALS(r4 - (wstep * (nsteps - 1)))(1)]))\n",
    "basis = COMP([STRUCT, NN(12)])([basisSector, R([1, 2])(2 * PI / 12)])\n",
    "basement = COMP([R([1, 2])(PI / -48), STRUCT])([stairs, T(3)(hstep * nsteps), basis])\n"
   ]
  },
  {
   "cell_type": "code",
   "execution_count": 4,
   "metadata": {
    "collapsed": false
   },
   "outputs": [
    {
     "data": {
      "text/plain": [
       "<pyplasm.xgepy.Hpc; proxy of <Swig Object of type 'std::shared_ptr< Hpc > *' at 0xaec7e9c8> >"
      ]
     },
     "execution_count": 4,
     "metadata": {},
     "output_type": "execute_result"
    }
   ],
   "source": [
    "VIEW(basement)"
   ]
  },
  {
   "cell_type": "markdown",
   "metadata": {},
   "source": [
    "![base ravvicinata](./immagini/base1.png)"
   ]
  },
  {
   "cell_type": "markdown",
   "metadata": {},
   "source": [
    "![base dall'alto'](./immagini/base2.png)"
   ]
  },
  {
   "cell_type": "markdown",
   "metadata": {},
   "source": [
    "------------------------"
   ]
  },
  {
   "cell_type": "markdown",
   "metadata": {},
   "source": [
    "Muro esterno\n",
    "-----------"
   ]
  },
  {
   "cell_type": "markdown",
   "metadata": {},
   "source": [
    "--------------------"
   ]
  },
  {
   "cell_type": "code",
   "execution_count": 5,
   "metadata": {
    "collapsed": true
   },
   "outputs": [],
   "source": [
    "ExtWall2Da = INTERSECTION([\n",
    "    MKPOL([[[0, 0], [7, 0], [7, 5], [0, 8], [7, 3], [9, 4], [10.5, 1.5], [10.5, 0], [11, 1.5], [11, 3]],\n",
    "           [range(1, 5), [2, 8, 7, 6, 5], [6, 7, 9, 10]], [[1], [2], [3]]]),\n",
    "    PROD([COMP([QUOTE, N(12)])(1), Q(8)])\n",
    "])\n",
    "\n",
    "ExtWall2Db = INTERSECTION([\n",
    "    MKPOL([[[0.5, 0], [4, 0], [5, 0], [6, 0], [6, 3], [5.5, 3.5], [5, 3], [4.5, 3.5], [4, 3], [2, 4], [0, 3], [0, 1.5],\n",
    "            [0.5, 1.5]], [[10, 11, 12, 13], [1, 2, 9, 10, 13], [2, 3, 7, 8, 9], [3, 4, 5, 6, 7]], range(1, 5)]),\n",
    "    PROD([COMP([QUOTE, N(6)])(1), Q(4)])\n",
    "])\n",
    "ExtWall2D = STRUCT([ExtWall2Da, T(1)(11), ExtWall2Db])\n",
    "sizxExtWall = SIZE(1)(ExtWall2D)\n",
    "ExtWall = R([2, 3])(PI / 2)(PROD([ExtWall2D, QUOTE([1.5])]))\n",
    "CurvedExtWall = COMP([cylMap(False), T(2)(r3), S([1, 3])([PI / (4 * sizxExtWall), hw4 / 8])])(ExtWall)\n",
    "DoubleExtWall = STRUCT([CurvedExtWall, S(1)(-1), CurvedExtWall])\n",
    "FullExtWall = COMP([STRUCT, NN(4)])([DoubleExtWall, R([1, 2])(PI / 2)])\n"
   ]
  },
  {
   "cell_type": "code",
   "execution_count": 6,
   "metadata": {
    "collapsed": false
   },
   "outputs": [
    {
     "data": {
      "text/plain": [
       "<pyplasm.xgepy.Hpc; proxy of <Swig Object of type 'std::shared_ptr< Hpc > *' at 0xaec7eb90> >"
      ]
     },
     "execution_count": 6,
     "metadata": {},
     "output_type": "execute_result"
    }
   ],
   "source": [
    "VIEW(FullExtWall)"
   ]
  },
  {
   "cell_type": "markdown",
   "metadata": {},
   "source": [
    "![muro ravvicinato](./immagini/muro1.png)"
   ]
  },
  {
   "cell_type": "markdown",
   "metadata": {},
   "source": [
    "![muro dall'alto'](./immagini/muro2.png)"
   ]
  },
  {
   "cell_type": "markdown",
   "metadata": {},
   "source": [
    "-----------------"
   ]
  },
  {
   "cell_type": "markdown",
   "metadata": {},
   "source": [
    "Colonne intermedie\n",
    "---------"
   ]
  },
  {
   "cell_type": "markdown",
   "metadata": {},
   "source": [
    "-----------------"
   ]
  },
  {
   "cell_type": "code",
   "execution_count": 10,
   "metadata": {
    "collapsed": true
   },
   "outputs": [],
   "source": [
    "hCol = 12 #column height\n",
    "\n",
    "def Column(args):\n",
    "    \"\"\"\n",
    "    :param w: width\n",
    "    :param h: height\n",
    "    :return: pyplasm.xgepy\n",
    "    \"\"\"\n",
    "    w, h = args\n",
    "    basis = CUBOID([w, w, 2*w/3])\n",
    "    trunk = CYLINDER([w/2*.85, h-w])(8)\n",
    "    capitel = CUBOID([w, w, w/3])\n",
    "    return TOP([TOP([basis, trunk]), capitel])\n",
    "\n",
    "arcAngle = 2*PI/50.4\n",
    "wallAngle = -3.2*arcAngle/4.\n",
    "RotCross = 3.2*arcAngle/4. + 2.5*arcAngle\n",
    "MyColumn = COMP([MKPOL, UKPOL, T(2)(r2 - .75), Column])([1.5, hCol])\n",
    "The4cols = COMP([R([1, 2])(arcAngle * .4 / 3.2), MKPOL, UKPOL, STRUCT, NN(4)])([R([1, 2])(DIFF(arcAngle)), MyColumn])\n",
    "The5cols = COMP([R([1, 2])(arcAngle * .4 / 3.2), MKPOL, UKPOL, STRUCT, NN(5)])([R([1, 2])(DIFF(arcAngle)), MyColumn])\n",
    "TheBotWal = COMP([cylMap(False), MKPOL, UKPOL, T(2)(r2 - .75), CUBOID])([3.2 * arcAngle / 4, 1.5, hCol])\n",
    "TheSecCols = STRUCT([\n",
    "    R([1, 2])(RotCross),\n",
    "    TheBotWal, R([1, 2])(wallAngle),\n",
    "    The4cols, R([1, 2])(-5 * arcAngle),\n",
    "    TheBotWal, R([1, 2])(wallAngle),\n",
    "    The5cols\n",
    "])\n",
    "TheMedColumns = COMP([STRUCT, NN(4)])([TheSecCols, R([1, 2])(PI / -2.)])\n"
   ]
  },
  {
   "cell_type": "code",
   "execution_count": 9,
   "metadata": {
    "collapsed": false
   },
   "outputs": [
    {
     "data": {
      "text/plain": [
       "<pyplasm.xgepy.Hpc; proxy of <Swig Object of type 'std::shared_ptr< Hpc > *' at 0xaec7e740> >"
      ]
     },
     "execution_count": 9,
     "metadata": {},
     "output_type": "execute_result"
    }
   ],
   "source": [
    "VIEW(MyColumn)"
   ]
  },
  {
   "cell_type": "markdown",
   "metadata": {},
   "source": [
    "![colonna singola](./immagini/colonna1.png)"
   ]
  },
  {
   "cell_type": "code",
   "execution_count": 11,
   "metadata": {
    "collapsed": false
   },
   "outputs": [
    {
     "data": {
      "text/plain": [
       "<pyplasm.xgepy.Hpc; proxy of <Swig Object of type 'std::shared_ptr< Hpc > *' at 0xaec85650> >"
      ]
     },
     "execution_count": 11,
     "metadata": {},
     "output_type": "execute_result"
    }
   ],
   "source": [
    "VIEW(The4cols)\n"
   ]
  },
  {
   "cell_type": "markdown",
   "metadata": {},
   "source": [
    "![4 colonne](./immagini/colonna2.png)"
   ]
  },
  {
   "cell_type": "code",
   "execution_count": 12,
   "metadata": {
    "collapsed": false
   },
   "outputs": [
    {
     "data": {
      "text/plain": [
       "<pyplasm.xgepy.Hpc; proxy of <Swig Object of type 'std::shared_ptr< Hpc > *' at 0xaec85c50> >"
      ]
     },
     "execution_count": 12,
     "metadata": {},
     "output_type": "execute_result"
    }
   ],
   "source": [
    "VIEW(The5cols)"
   ]
  },
  {
   "cell_type": "markdown",
   "metadata": {},
   "source": [
    "![5 colonne](./immagini/colonna3.png)"
   ]
  },
  {
   "cell_type": "code",
   "execution_count": 13,
   "metadata": {
    "collapsed": false
   },
   "outputs": [
    {
     "data": {
      "text/plain": [
       "<pyplasm.xgepy.Hpc; proxy of <Swig Object of type 'std::shared_ptr< Hpc > *' at 0xaec7ecc8> >"
      ]
     },
     "execution_count": 13,
     "metadata": {},
     "output_type": "execute_result"
    }
   ],
   "source": [
    "VIEW(TheMedColumns)"
   ]
  },
  {
   "cell_type": "markdown",
   "metadata": {},
   "source": [
    "![colonnato ravvicinato](./immagini/colonna4.png)"
   ]
  },
  {
   "cell_type": "markdown",
   "metadata": {},
   "source": [
    "![colonnato dall'alto](./immagini/colonna5.png)"
   ]
  },
  {
   "cell_type": "markdown",
   "metadata": {},
   "source": [
    "-----------------"
   ]
  },
  {
   "cell_type": "markdown",
   "metadata": {},
   "source": [
    "Archi sulle colonne\n",
    "-------------"
   ]
  },
  {
   "cell_type": "markdown",
   "metadata": {},
   "source": [
    "-----------------"
   ]
  },
  {
   "cell_type": "code",
   "execution_count": 14,
   "metadata": {
    "collapsed": true
   },
   "outputs": [],
   "source": [
    "def bottomArc(d):\n",
    "    return BEZIER(S1)([[0, 0], [0, 2 * d / 3], [d, 2 * d / 3], [d, 0]])\n",
    "\n",
    "def topArc(d):\n",
    "    return BEZIER(S1)([[0, 2 * d / 3], [d, 2 * d / 3]])\n",
    "\n",
    "def arc2D(d):\n",
    "    return BEZIER(S2)([bottomArc(d), topArc(d)])\n",
    "\n",
    "def arc3D(d):\n",
    "    def arc3D1(w):\n",
    "        arco = arc2D(3.2)\n",
    "        dominio = PROD([INTERVALS(1)(8), INTERVALS(1)(1)])\n",
    "        ar = MAP(arco)(dominio)\n",
    "        domin = PROD([ar, QUOTE([1.5])])\n",
    "        return COMP([T(2)(w), R([2, 3])(PI / 2)])(domin)\n",
    "\n",
    "    return arc3D1\n",
    "\n",
    "\n",
    "def Interarc(d1, d2):\n",
    "    def Interarc1(w):\n",
    "        return CUBOID([d1, w, 2 * d2 / 3])\n",
    "\n",
    "    return Interarc1\n",
    "\n",
    "def Xarc(d1, d2):\n",
    "    def Xarc1(w):\n",
    "        return RIGHT([RIGHT([Interarc(d1, d2)(w), arc3D(d2)(w)]), Interarc(d1, d2)(w)])\n",
    "\n",
    "    return Xarc1\n",
    "\n",
    "TheArc = Xarc(0.4, 3.2)(1.5)\n",
    "SizeArc = SIZE(1)(TheArc)\n",
    "sx = (1 / SizeArc) * arcAngle\n",
    "sz = sx * (r2 - 2)\n",
    "CurvedArc = COMP([cylMap(False), MKPOL, UKPOL, T(2)(r2 - .75), S([1, 3])([sx, sz])])(TheArc)\n",
    "HeigthArc = SIZE(3)(CurvedArc)\n",
    "The5arcs = COMP([MKPOL, UKPOL, STRUCT, NN(5)])([CurvedArc, R([1, 2])(-arcAngle)])\n",
    "The6arcs = COMP([MKPOL, UKPOL, STRUCT, NN(6)])([CurvedArc, R([1, 2])(-arcAngle)])\n",
    "TheMidWall = COMP([cylMap(False), MKPOL, UKPOL, T(2)(r2 - .75), CUBOID])([3.2 * arcAngle / 4, 1.5, HeigthArc])\n",
    "TheSector = STRUCT(\n",
    "    [R([1, 2])(RotCross), TheMidWall, R([1, 2])(wallAngle), The5arcs, R([1, 2])(-5 * arcAngle), TheMidWall,\n",
    "     R([1, 2])(wallAngle), The6arcs])\n",
    "TheArcs = COMP([STRUCT, NN(4)])([TheSector, R([1, 2])(PI / -2)])\n",
    "TheArcsCols = STRUCT([TheMedColumns, T(3)(hCol), TheArcs])\n",
    "\n"
   ]
  },
  {
   "cell_type": "code",
   "execution_count": 15,
   "metadata": {
    "collapsed": false
   },
   "outputs": [
    {
     "data": {
      "text/plain": [
       "<pyplasm.xgepy.Hpc; proxy of <Swig Object of type 'std::shared_ptr< Hpc > *' at 0xaec85b30> >"
      ]
     },
     "execution_count": 15,
     "metadata": {},
     "output_type": "execute_result"
    }
   ],
   "source": [
    "VIEW(TheArcs)\n"
   ]
  },
  {
   "cell_type": "code",
   "execution_count": 16,
   "metadata": {
    "collapsed": false
   },
   "outputs": [
    {
     "data": {
      "text/plain": [
       "<pyplasm.xgepy.Hpc; proxy of <Swig Object of type 'std::shared_ptr< Hpc > *' at 0xaec7ecf8> >"
      ]
     },
     "execution_count": 16,
     "metadata": {},
     "output_type": "execute_result"
    }
   ],
   "source": [
    "VIEW(TheArcsCols)"
   ]
  },
  {
   "cell_type": "markdown",
   "metadata": {},
   "source": [
    "![arcata senza colonne](./immagini/arco1.png)"
   ]
  },
  {
   "cell_type": "markdown",
   "metadata": {},
   "source": [
    "![arcata con colonne](./immagini/arco2.png)"
   ]
  },
  {
   "cell_type": "markdown",
   "metadata": {},
   "source": [
    "-----------------"
   ]
  },
  {
   "cell_type": "markdown",
   "metadata": {},
   "source": [
    "Muro intermedio superiore\n",
    "-----------------"
   ]
  },
  {
   "cell_type": "markdown",
   "metadata": {},
   "source": [
    "-----------------"
   ]
  },
  {
   "cell_type": "code",
   "execution_count": 17,
   "metadata": {
    "collapsed": true
   },
   "outputs": [],
   "source": [
    "MedWall2D = INTERSECTION([MKPOL(\n",
    "    [[[0, 4], [8, 4], [17, 4], [17, 5], [12.5, 7.5], [8, 5], [0, 8]], [[1, 2, 6, 7], [2, 3, 4, 5, 6]], [[1], [2]]]),\n",
    "    PROD([COMP([QUOTE, N(17)])(1), QUOTE([8])])])\n",
    "sizxMedWall = SIZE(1)(MedWall2D)\n",
    "MedWall = R([2, 3])(PI / 2)(PROD([MedWall2D, QUOTE([1.5])]))\n",
    "CurvedMedWall = COMP([cylMap(), MKPOL, UKPOL, T(2)(r2 + 0.75), S([1, 3])([PI / (4 * sizxMedWall), hw4 / 8])])(MedWall)\n",
    "DoubleMedWall = STRUCT([CurvedMedWall, S(1)(-1)(CurvedMedWall)])\n",
    "FullMedWall = COMP([STRUCT, NN(4)])([DoubleMedWall, R([1, 2])(PI / 2)])\n",
    "MedWallArcs = STRUCT([FullMedWall, TheArcsCols])\n"
   ]
  },
  {
   "cell_type": "code",
   "execution_count": 18,
   "metadata": {
    "collapsed": false
   },
   "outputs": [
    {
     "data": {
      "text/plain": [
       "<pyplasm.xgepy.Hpc; proxy of <Swig Object of type 'std::shared_ptr< Hpc > *' at 0xaec85f68> >"
      ]
     },
     "execution_count": 18,
     "metadata": {},
     "output_type": "execute_result"
    }
   ],
   "source": [
    "VIEW(MedWallArcs)"
   ]
  },
  {
   "cell_type": "markdown",
   "metadata": {},
   "source": [
    "![muro intermedio superiore](./immagini/struttura1.png)"
   ]
  },
  {
   "cell_type": "markdown",
   "metadata": {},
   "source": [
    "-----------------"
   ]
  },
  {
   "cell_type": "markdown",
   "metadata": {},
   "source": [
    "Muri laterali della croce\n",
    "-----------------"
   ]
  },
  {
   "cell_type": "markdown",
   "metadata": {},
   "source": [
    "-----------------"
   ]
  },
  {
   "cell_type": "code",
   "execution_count": 19,
   "metadata": {
    "collapsed": true
   },
   "outputs": [],
   "source": [
    "CrossWall = COMP([T(1)(-1), R([1, 2])(0.2 * arcAngle), S(3)(hw4 / 8), CUBOID])([1.5, r3 - r2, 5])\n",
    "SingleWall = COMP([R([1, 2])(2.5 * arcAngle), T(2)(r2)])(CrossWall)\n",
    "DoubleWall = STRUCT([SingleWall, S(1)(-1), SingleWall])\n",
    "CrossWalls = COMP([STRUCT, NN(4)])([DoubleWall, R([1, 2])(PI / 2)])\n"
   ]
  },
  {
   "cell_type": "code",
   "execution_count": 20,
   "metadata": {
    "collapsed": false
   },
   "outputs": [
    {
     "data": {
      "text/plain": [
       "<pyplasm.xgepy.Hpc; proxy of <Swig Object of type 'std::shared_ptr< Hpc > *' at 0xaec855f0> >"
      ]
     },
     "execution_count": 20,
     "metadata": {},
     "output_type": "execute_result"
    }
   ],
   "source": [
    "VIEW(CrossWalls)"
   ]
  },
  {
   "cell_type": "markdown",
   "metadata": {},
   "source": [
    "![muri laterali della croce](./immagini/muric.png)"
   ]
  },
  {
   "cell_type": "markdown",
   "metadata": {},
   "source": [
    "----------------------------------"
   ]
  },
  {
   "cell_type": "markdown",
   "metadata": {},
   "source": [
    "Tettto sulla croce\n",
    "----------------------------------"
   ]
  },
  {
   "cell_type": "markdown",
   "metadata": {},
   "source": [
    "----------------------------------"
   ]
  },
  {
   "cell_type": "code",
   "execution_count": 21,
   "metadata": {
    "collapsed": true
   },
   "outputs": [],
   "source": [
    "HalfTetto = MKPOL([[[0, r2, 8], [8, r2, 5], [8, r3, 5], [0, r3, 8]], [[1, 2, 3, 4]], []])\n",
    "CurvedHalfTetto = COMP([cylMap(), S([1, 3])([2.5 * arcAngle / 8, hw4 / 8])])(HalfTetto)\n",
    "DoubleHalfTetto = STRUCT([CurvedHalfTetto, S(1)(-1)(CurvedHalfTetto)])\n",
    "FullTetto = COMP([STRUCT, NN(4)])([DoubleHalfTetto, R([1, 2])(PI / -2)])\n"
   ]
  },
  {
   "cell_type": "code",
   "execution_count": 22,
   "metadata": {
    "collapsed": false
   },
   "outputs": [
    {
     "data": {
      "text/plain": [
       "<pyplasm.xgepy.Hpc; proxy of <Swig Object of type 'std::shared_ptr< Hpc > *' at 0xadaad5d8> >"
      ]
     },
     "execution_count": 22,
     "metadata": {},
     "output_type": "execute_result"
    }
   ],
   "source": [
    "VIEW(FullTetto)"
   ]
  },
  {
   "cell_type": "markdown",
   "metadata": {},
   "source": [
    "![tetto sulla croce](./immagini/tettocroce.png)"
   ]
  },
  {
   "cell_type": "markdown",
   "metadata": {},
   "source": [
    "----------------------------------"
   ]
  },
  {
   "cell_type": "markdown",
   "metadata": {},
   "source": [
    "Muro con triplice apertura\n",
    "----------------------------------"
   ]
  },
  {
   "cell_type": "markdown",
   "metadata": {},
   "source": [
    "----------------------------------"
   ]
  },
  {
   "cell_type": "code",
   "execution_count": 41,
   "metadata": {
    "collapsed": true
   },
   "outputs": [],
   "source": [
    "def CourtWall(d1, d2):\n",
    "    def CourtWall1(n1, n2):\n",
    "        w = 0.7\n",
    "        TripleHole = TOP([STRUCT([Column([w, 2]), T(1)(2 + 2.65*w), Column([w, 2])]), Xarc(2, 2)(1)])\n",
    "        h = SIZE(3)(TripleHole)\n",
    "        op = ALIGN([[1, MAX, MIN], [2, MIN, MIN]])\n",
    "        LeftWall = PROD([COMP([QUOTE, N(n1)])(d1 / n1), CUBOID([1, h])])\n",
    "        RightWall = PROD([COMP([QUOTE, N(n2)])(d2 / n2), CUBOID([1, h])])\n",
    "        return op([op([LeftWall, TripleHole]), RightWall])\n",
    "\n",
    "    return CourtWall1\n",
    "\n"
   ]
  },
  {
   "cell_type": "code",
   "execution_count": 42,
   "metadata": {
    "collapsed": false
   },
   "outputs": [
    {
     "data": {
      "text/plain": [
       "<pyplasm.xgepy.Hpc; proxy of <Swig Object of type 'std::shared_ptr< Hpc > *' at 0xadabe4e8> >"
      ]
     },
     "execution_count": 42,
     "metadata": {},
     "output_type": "execute_result"
    }
   ],
   "source": [
    "VIEW(CourtWall(12,12)(9,9))"
   ]
  },
  {
   "cell_type": "markdown",
   "metadata": {},
   "source": [
    "![triplice apertura](./immagini/3muro.png)"
   ]
  },
  {
   "cell_type": "markdown",
   "metadata": {},
   "source": [
    "----------------------------------"
   ]
  },
  {
   "cell_type": "markdown",
   "metadata": {},
   "source": [
    "Muro inferiore cortile interno\n",
    "----------------------------------"
   ]
  },
  {
   "cell_type": "markdown",
   "metadata": {},
   "source": [
    "----------------------------------"
   ]
  },
  {
   "cell_type": "code",
   "execution_count": 43,
   "metadata": {
    "collapsed": true
   },
   "outputs": [],
   "source": [
    "MyCourtWall = CourtWall(12, 12)(9, 9)\n",
    "sizxCourtWall = SIZE(1)(MyCourtWall)\n",
    "mapping = COMP([cylMap(False), S([1, 3])([(7.25 * PI / 24) * (1 / sizxCourtWall), hw4 / 8])])\n",
    "CurvedCourtWall = COMP([OPTIMIZE, R([1, 2])(-2.5 * arcAngle), mapping, T(2)((r3 + r2) / 2)])(MyCourtWall)\n",
    "CrossCourtWall = COMP([STRUCT, NN(4)])([CurvedCourtWall, R([1, 2])(PI / 2)])\n",
    "\n"
   ]
  },
  {
   "cell_type": "code",
   "execution_count": 44,
   "metadata": {
    "collapsed": false
   },
   "outputs": [
    {
     "data": {
      "text/plain": [
       "<pyplasm.xgepy.Hpc; proxy of <Swig Object of type 'std::shared_ptr< Hpc > *' at 0xadabea40> >"
      ]
     },
     "execution_count": 44,
     "metadata": {},
     "output_type": "execute_result"
    }
   ],
   "source": [
    "VIEW(CrossCourtWall)"
   ]
  },
  {
   "cell_type": "markdown",
   "metadata": {},
   "source": [
    "![muro inferiore cortile esterno](./immagini/cortile.png)"
   ]
  },
  {
   "cell_type": "markdown",
   "metadata": {},
   "source": [
    "----------------------------------"
   ]
  },
  {
   "cell_type": "markdown",
   "metadata": {},
   "source": [
    "Coronamento Muro Cortile interno\n",
    "----------------------------------"
   ]
  },
  {
   "cell_type": "markdown",
   "metadata": {},
   "source": [
    "----------------------------------"
   ]
  },
  {
   "cell_type": "code",
   "execution_count": 45,
   "metadata": {
    "collapsed": true
   },
   "outputs": [],
   "source": [
    "TopCourtWall2D = INTERSECTION(\n",
    "    [MKPOL([[[0, 3.333], [10, 3.333], [10, 4.333], [5, 6.333], [0, 4.333]], [range(1, 5)], [[1]]]),\n",
    "     PROD([COMP([QUOTE, N(10)])(1), QUOTE([8])])])\n",
    "TopCourtWall = R([2, 3])(PI / 2)(PROD([TopCourtWall2D, QUOTE([1])]))\n",
    "MyTopCourtWall = RIGHT([TopCourtWall, RIGHT([TopCourtWall, TopCourtWall])])\n",
    "CurvedTopCourtWall = COMP([R([1, 2])(-2.5 * arcAngle), mapping, T(2)((r3 + r2 + 2) / 2)])(MyTopCourtWall)\n",
    "FullTopCourtWall = COMP([STRUCT, NN(4)])([CurvedTopCourtWall, R([1, 2])(PI / 2)])\n"
   ]
  },
  {
   "cell_type": "code",
   "execution_count": 49,
   "metadata": {
    "collapsed": false
   },
   "outputs": [
    {
     "data": {
      "text/plain": [
       "<pyplasm.xgepy.Hpc; proxy of <Swig Object of type 'std::shared_ptr< Hpc > *' at 0xadabed10> >"
      ]
     },
     "execution_count": 49,
     "metadata": {},
     "output_type": "execute_result"
    }
   ],
   "source": [
    "VIEW(FullTopCourtWall)"
   ]
  },
  {
   "cell_type": "markdown",
   "metadata": {},
   "source": [
    "![coronamento muro cortile esterno](./immagini/corona.png)"
   ]
  },
  {
   "cell_type": "markdown",
   "metadata": {},
   "source": [
    "----------------------------------"
   ]
  },
  {
   "cell_type": "markdown",
   "metadata": {},
   "source": [
    "Tetto sul Cortile interno\n",
    "----------------------------------"
   ]
  },
  {
   "cell_type": "markdown",
   "metadata": {},
   "source": [
    "----------------------------------"
   ]
  },
  {
   "cell_type": "code",
   "execution_count": 50,
   "metadata": {
    "collapsed": true
   },
   "outputs": [],
   "source": [
    "RotWall = 2.5 * arcAngle\n",
    "CourTetto = INTERSECTION([MKPOL([[[0, (r3 + r2 + 2) / 2, 3.333], [10, (r3 + r2 + 2) / 2, 3.333], [10, r2, 4.333],\n",
    "                                  [0, r2, 4.333], [0, (r3 + r2 + 2) / 2, 3.433], [10, (r3 + r2 + 2) / 2, 3.433],\n",
    "                                  [10, r2, 4.433], [0, r2, 4.433]], [range(1, 9)], [[1]]]),\n",
    "                          PROD([COMP([QUOTE, N(10)])(1), PROD([QUOTE([(r3 + r2 + 2) / 2]), QUOTE([5])])])])\n",
    "MyCourTetto = RIGHT([RIGHT([CourTetto, CourTetto]), CourTetto])\n",
    "CurvedCourTetto = COMP([R([1, 2])(DIFF(RotWall)), mapping])(MyCourTetto)\n",
    "FullCourTetto = COMP([STRUCT, NN(4)])([CurvedCourTetto, R([1, 2])(PI / 2)])\n",
    "\n"
   ]
  },
  {
   "cell_type": "code",
   "execution_count": 51,
   "metadata": {
    "collapsed": false
   },
   "outputs": [
    {
     "data": {
      "text/plain": [
       "<pyplasm.xgepy.Hpc; proxy of <Swig Object of type 'std::shared_ptr< Hpc > *' at 0xadabed58> >"
      ]
     },
     "execution_count": 51,
     "metadata": {},
     "output_type": "execute_result"
    }
   ],
   "source": [
    "VIEW(FullCourTetto)"
   ]
  },
  {
   "cell_type": "markdown",
   "metadata": {},
   "source": [
    "![tetto cortile interno](./immagini/tettoc.png)"
   ]
  },
  {
   "cell_type": "markdown",
   "metadata": {},
   "source": [
    "----------------------------------"
   ]
  },
  {
   "cell_type": "markdown",
   "metadata": {},
   "source": [
    "Colonne muro interno\n",
    "----------------------------------"
   ]
  },
  {
   "cell_type": "markdown",
   "metadata": {},
   "source": [
    "----------------------------------"
   ]
  },
  {
   "cell_type": "code",
   "execution_count": 52,
   "metadata": {
    "collapsed": true
   },
   "outputs": [],
   "source": [
    "def Radial22Obj(Obj):\n",
    "    The4Obj = COMP([STRUCT, NN(4)])([Obj, R([1, 2])(PI / 11)])\n",
    "    The2Obj = COMP([STRUCT, NN(2)])([Obj, R([1, 2])(PI / 11)])\n",
    "    The20Obj = COMP([STRUCT, NN(5)])([The4Obj, R([1, 2])((4 * PI) / 11)])\n",
    "    return STRUCT([The20Obj, R([1, 2])((20 * PI) / 11), The2Obj])\n",
    "\n",
    "InternalCol = COMP([MKPOL, UKPOL, T(2)((r0 - 2)), Column])([1.5, hCol])\n",
    "The22Columns = Radial22Obj(InternalCol)\n"
   ]
  },
  {
   "cell_type": "code",
   "execution_count": 53,
   "metadata": {
    "collapsed": false
   },
   "outputs": [
    {
     "data": {
      "text/plain": [
       "<pyplasm.xgepy.Hpc; proxy of <Swig Object of type 'std::shared_ptr< Hpc > *' at 0xadabe9f8> >"
      ]
     },
     "execution_count": 53,
     "metadata": {},
     "output_type": "execute_result"
    }
   ],
   "source": [
    "VIEW(The22Columns)"
   ]
  },
  {
   "cell_type": "markdown",
   "metadata": {},
   "source": [
    "![colonne muro interno](./immagini/colonnem.png)"
   ]
  },
  {
   "cell_type": "markdown",
   "metadata": {},
   "source": [
    "----------------------------------"
   ]
  },
  {
   "cell_type": "markdown",
   "metadata": {},
   "source": [
    "Travi muro interno\n",
    "----------------------------------"
   ]
  },
  {
   "cell_type": "markdown",
   "metadata": {},
   "source": [
    "----------------------------------"
   ]
  },
  {
   "cell_type": "code",
   "execution_count": 54,
   "metadata": {
    "collapsed": true
   },
   "outputs": [],
   "source": [
    "Beam = PROD([QUOTE([-0.5, 1.5, 2, 1.5]), PROD([QUOTE([2.2]), QUOTE([1.5])])])\n",
    "CurvedBeam = COMP([cylMap(), T([2, 3])([(r0 - 2), hCol]), S(1)(PI / (11 * 5))])(Beam)\n",
    "The22Beams = Radial22Obj(CurvedBeam)\n",
    "\n"
   ]
  },
  {
   "cell_type": "code",
   "execution_count": 55,
   "metadata": {
    "collapsed": false
   },
   "outputs": [
    {
     "data": {
      "text/plain": [
       "<pyplasm.xgepy.Hpc; proxy of <Swig Object of type 'std::shared_ptr< Hpc > *' at 0xadad2038> >"
      ]
     },
     "execution_count": 55,
     "metadata": {},
     "output_type": "execute_result"
    }
   ],
   "source": [
    "VIEW(The22Beams)"
   ]
  },
  {
   "cell_type": "markdown",
   "metadata": {},
   "source": [
    "![travi muro interno](./immagini/tmuro.png)"
   ]
  },
  {
   "cell_type": "markdown",
   "metadata": {},
   "source": [
    "----------------------------------"
   ]
  },
  {
   "cell_type": "markdown",
   "metadata": {},
   "source": [
    "Muro interno superiore\n",
    "----------------------------------"
   ]
  },
  {
   "cell_type": "markdown",
   "metadata": {},
   "source": [
    "----------------------------------"
   ]
  },
  {
   "cell_type": "code",
   "execution_count": 56,
   "metadata": {
    "collapsed": true
   },
   "outputs": [],
   "source": [
    "Hwall = STRUCT([\n",
    "    INSR(PROD)([QUOTE([-0.5, 1.5, -2, 1.5]), QUOTE([-0.3, 1.4]), QUOTE([2.5 * hCol])]),\n",
    "    INSR(PROD)([QUOTE([-2.0, 2]), QUOTE([-0.3, 1.4]), QUOTE([1.5 * hCol, -0.5 * hCol, 0.5 * hCol])]),\n",
    "    INSR(PROD)([QUOTE([-2.25, 1.5]), QUOTE([-0.3, 1.4]), QUOTE([1.5 * hCol, -0.5 * hCol, 0.5 * hCol])])\n",
    "])\n",
    "CurvedHwall = COMP([cylMap(False), T([2, 3])([r0 - 2, hCol]), S(1)(PI / (11 * 5))])(Hwall)\n",
    "The22Hwall = Radial22Obj(CurvedHwall)"
   ]
  },
  {
   "cell_type": "code",
   "execution_count": 57,
   "metadata": {
    "collapsed": false
   },
   "outputs": [
    {
     "data": {
      "text/plain": [
       "<pyplasm.xgepy.Hpc; proxy of <Swig Object of type 'std::shared_ptr< Hpc > *' at 0xadad2518> >"
      ]
     },
     "execution_count": 57,
     "metadata": {},
     "output_type": "execute_result"
    }
   ],
   "source": [
    "VIEW(The22Hwall)"
   ]
  },
  {
   "cell_type": "markdown",
   "metadata": {},
   "source": [
    "![muro interno superiore dall'alto](./immagini/muroint1.png)"
   ]
  },
  {
   "cell_type": "markdown",
   "metadata": {},
   "source": [
    "![muro interno superiore ravvicinato](./immagini/muroint2.png)"
   ]
  },
  {
   "cell_type": "markdown",
   "metadata": {},
   "source": [
    "----------------------------------"
   ]
  },
  {
   "cell_type": "markdown",
   "metadata": {},
   "source": [
    "Coronamento superiore muro interno\n",
    "----------------------------------"
   ]
  },
  {
   "cell_type": "markdown",
   "metadata": {},
   "source": [
    "----------------------------------"
   ]
  },
  {
   "cell_type": "code",
   "execution_count": 58,
   "metadata": {
    "collapsed": true
   },
   "outputs": [],
   "source": [
    "myArc = MAP([COMP([SIN, S1]), COMP([COS, S1])])(QUOTE(N(5)(PI / 10)))\n",
    "Vertex = MKPOL([[[0, 0]], [[1]], [[1]]])\n",
    "Sector = JOIN([myArc, Vertex])\n",
    "Triangle = S(1)(-1)(SIMPLEX(2))\n",
    "SectorTriangle2D = STRUCT([T(1)(0.05), Sector, T(1)(2), Triangle])\n",
    "DoubleSect = STRUCT([SectorTriangle2D, S(1)(-1)(SectorTriangle2D)])\n",
    "Sect2D = S(1)(2 / 2.05)(DoubleSect)\n",
    "Sect3D = R([2, 3])(PI / 2)(PROD([Sect2D, QUOTE([0.8])]))\n",
    "CurvedSect = COMP([cylMap(False), T(2)(r0), S([1, 3])([(2 * PI) / (11 * 4), 3])])(Sect3D)\n",
    "Frieze = T(3)(3.5 * hCol)(CurvedSect)\n",
    "def Radial11Obj(Obj):\n",
    "    The2Obj = COMP([STRUCT, NN(2)])([Obj, R([1, 2])((2 * PI) / 11)])\n",
    "    The10Obj = COMP([STRUCT, NN(5)])([The2Obj, R([1, 2])((4 * PI) / 11)])\n",
    "    return STRUCT([The10Obj, R([1, 2])((20 * PI) / 11), Obj])\n",
    "\n",
    "The11Frieze = Radial11Obj(Frieze)"
   ]
  },
  {
   "cell_type": "code",
   "execution_count": 59,
   "metadata": {
    "collapsed": false
   },
   "outputs": [
    {
     "data": {
      "text/plain": [
       "<pyplasm.xgepy.Hpc; proxy of <Swig Object of type 'std::shared_ptr< Hpc > *' at 0xadabe980> >"
      ]
     },
     "execution_count": 59,
     "metadata": {},
     "output_type": "execute_result"
    }
   ],
   "source": [
    "VIEW(The11Frieze)\n"
   ]
  },
  {
   "cell_type": "markdown",
   "metadata": {},
   "source": [
    "![coronamento superiore muro interno](./immagini/cor1.png)"
   ]
  },
  {
   "cell_type": "markdown",
   "metadata": {},
   "source": [
    "----------------------------------"
   ]
  },
  {
   "cell_type": "markdown",
   "metadata": {},
   "source": [
    "Traliccio tetto interno\n",
    "----------------------------------"
   ]
  },
  {
   "cell_type": "markdown",
   "metadata": {},
   "source": [
    "----------------------------------"
   ]
  },
  {
   "cell_type": "code",
   "execution_count": 60,
   "metadata": {
    "collapsed": true
   },
   "outputs": [],
   "source": [
    "def Trellis(v):\n",
    "    H, L = v\n",
    "    return COMP([R([2, 3])(PI / 2.), EMBED(1), MKPOL])(\n",
    "        [[[0, 0], [L / 3, 0], [2 * L / 3, 0], [L, 0], [2 * L / 3, H / 3], [L / 3, 2 * H / 3], [0, H]],\n",
    "         [[1, 2], [2, 3], [3, 4], [4, 5], [5, 6], [6, 7], [7, 1], [1, 6], [6, 2], [2, 5], [5, 3]],\n",
    "         [1, 2, 3, 4, 5, 6, 7, 8, 9, 10, 11]])\n",
    "\n",
    "def Radial(n):\n",
    "    def Radial1(obj):\n",
    "        return COMP([STRUCT, NN(3)])([\n",
    "            COMP([STRUCT, NN(n / 3)])([obj, R([1, 2])(2 * PI / n)]),\n",
    "            R([1, 2])(2 * PI / 3)\n",
    "        ])\n",
    "\n",
    "    return Radial1\n",
    "\n",
    "TrellisTop3D = COMP([T(2)(-.25), S(2)(.5), OFFSET([1, 1, 1]), Trellis])([hCol, r0 - 1])\n",
    "TheTopTrellis = T(3)(3.5 * hCol)(TrellisTop3D)\n",
    "TopTrellis = Radial(12)(TheTopTrellis)"
   ]
  },
  {
   "cell_type": "code",
   "execution_count": 61,
   "metadata": {
    "collapsed": false
   },
   "outputs": [
    {
     "data": {
      "text/plain": [
       "<pyplasm.xgepy.Hpc; proxy of <Swig Object of type 'std::shared_ptr< Hpc > *' at 0xadabe350> >"
      ]
     },
     "execution_count": 61,
     "metadata": {},
     "output_type": "execute_result"
    }
   ],
   "source": [
    "VIEW(TopTrellis)"
   ]
  },
  {
   "cell_type": "markdown",
   "metadata": {},
   "source": [
    "![traliccio tetto interno da sotto](./immagini/tral1.png)"
   ]
  },
  {
   "cell_type": "markdown",
   "metadata": {},
   "source": [
    "![traliccio tetto interno dall'alto](./immagini/tral2.png)"
   ]
  },
  {
   "cell_type": "markdown",
   "metadata": {},
   "source": [
    "![traliccio tetto interno ravvicinato](./immagini/tral3.png)"
   ]
  },
  {
   "cell_type": "markdown",
   "metadata": {},
   "source": [
    "----------------------------------"
   ]
  },
  {
   "cell_type": "markdown",
   "metadata": {},
   "source": [
    "Traliccio tetto intermedio\n",
    "----------------------------------"
   ]
  },
  {
   "cell_type": "markdown",
   "metadata": {},
   "source": [
    "----------------------------------"
   ]
  },
  {
   "cell_type": "code",
   "execution_count": 62,
   "metadata": {
    "collapsed": true
   },
   "outputs": [],
   "source": [
    "TrellisMed3D = COMP([T(2)(-0.25), S(2)(0.5), OFFSET([1, 1, 1]), Trellis])([hCol, r2 - r0])\n",
    "TheMedTrellis = T(3)(hCol + 3)(TrellisMed3D)\n",
    "MedTrellis = Radial(24)(T(1)(r0)(TheMedTrellis))\n",
    "DoubleMedTrellis = STRUCT([MedTrellis, R([1, 2])(PI / 24), MedTrellis])"
   ]
  },
  {
   "cell_type": "code",
   "execution_count": 63,
   "metadata": {
    "collapsed": false
   },
   "outputs": [
    {
     "data": {
      "text/plain": [
       "<pyplasm.xgepy.Hpc; proxy of <Swig Object of type 'std::shared_ptr< Hpc > *' at 0xadabe170> >"
      ]
     },
     "execution_count": 63,
     "metadata": {},
     "output_type": "execute_result"
    }
   ],
   "source": [
    "VIEW(DoubleMedTrellis)"
   ]
  },
  {
   "cell_type": "markdown",
   "metadata": {},
   "source": [
    "![traliccio tetto intermedio dall'alto](./immagini/tral4.png)"
   ]
  },
  {
   "cell_type": "markdown",
   "metadata": {},
   "source": [
    "![traliccio tetto intermedio ravvicinato](./immagini/tral5.png)"
   ]
  },
  {
   "cell_type": "markdown",
   "metadata": {},
   "source": [
    "----------------------------------"
   ]
  },
  {
   "cell_type": "markdown",
   "metadata": {},
   "source": [
    "Struttura completa\n",
    "==========="
   ]
  },
  {
   "cell_type": "markdown",
   "metadata": {},
   "source": [
    "----------------------------------"
   ]
  },
  {
   "cell_type": "code",
   "execution_count": 64,
   "metadata": {
    "collapsed": false
   },
   "outputs": [
    {
     "data": {
      "text/plain": [
       "<pyplasm.xgepy.Hpc; proxy of <Swig Object of type 'std::shared_ptr< Hpc > *' at 0xadabe1e8> >"
      ]
     },
     "execution_count": 64,
     "metadata": {},
     "output_type": "execute_result"
    }
   ],
   "source": [
    "VIEW(STRUCT([basement, T(3)(hbasament), FullExtWall, FullTetto, CrossCourtWall, CrossWalls, MedWallArcs, TheMedColumns,\n",
    "             FullTopCourtWall, FullCourTetto, The22Columns, The22Beams, The22Hwall, The11Frieze, TopTrellis,\n",
    "             DoubleMedTrellis]))"
   ]
  },
  {
   "cell_type": "markdown",
   "metadata": {},
   "source": [
    "![angolazione 1 struttura completa](./immagini/s1.png)"
   ]
  },
  {
   "cell_type": "markdown",
   "metadata": {},
   "source": [
    "![angolazione 2 struttura completa](./immagini/s2.png)"
   ]
  },
  {
   "cell_type": "markdown",
   "metadata": {},
   "source": [
    "![angolazione 3 struttura completa](./immagini/s3.png)"
   ]
  },
  {
   "cell_type": "markdown",
   "metadata": {},
   "source": [
    "![angolazione 4 struttura completa](./immagini/s4.png)"
   ]
  },
  {
   "cell_type": "markdown",
   "metadata": {},
   "source": [
    "![angolazione 5 struttura completa](./immagini/s5.png)"
   ]
  },
  {
   "cell_type": "code",
   "execution_count": null,
   "metadata": {
    "collapsed": true
   },
   "outputs": [],
   "source": []
  }
 ],
 "metadata": {
  "kernelspec": {
   "display_name": "Python 2",
   "language": "python",
   "name": "python2"
  },
  "language_info": {
   "codemirror_mode": {
    "name": "ipython",
    "version": 2
   },
   "file_extension": ".py",
   "mimetype": "text/x-python",
   "name": "python",
   "nbconvert_exporter": "python",
   "pygments_lexer": "ipython2",
   "version": "2.7.12"
  }
 },
 "nbformat": 4,
 "nbformat_minor": 1
}
