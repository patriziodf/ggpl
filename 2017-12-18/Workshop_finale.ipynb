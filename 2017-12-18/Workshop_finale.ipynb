{
 "cells": [
  {
   "cell_type": "markdown",
   "metadata": {},
   "source": [
    "NELLA CARTELLA C'E' UN VIDEO ESPLORATIVO DA ME REALIZZATO DELLA VILLA CHE PURTROPPO NON SONO RIUSCITO A CARICARE NEL NOTEBOOK\n",
    "======================"
   ]
  },
  {
   "cell_type": "markdown",
   "metadata": {},
   "source": [
    "Workshop Finale\n",
    "==========="
   ]
  },
  {
   "cell_type": "markdown",
   "metadata": {},
   "source": [
    "[Villa Almerico Carpa detta la Rotonda](https://it.wikipedia.org/wiki/Villa_Almerico_Capra)\n",
    "======================================================="
   ]
  },
  {
   "cell_type": "markdown",
   "metadata": {},
   "source": [
    "Villa Almerico Capra detta La Rotonda (conosciuta anche come Villa Capra Valmarana) è una villa veneta a pianta centrale situata a ridosso della città di Vicenza, poco discosta dalla strada della Riviera Berica. Fatta costruire da Paolo Almerico, che la commissionò ad Andrea Palladio nel 1566-1567, fu completata da Vincenzo Scamozzi nel 1606 per i due fratelli Capra, che avevano acquisito l'edificio nel 1591.\n",
    "\n",
    "\n",
    "Ne segue una possibile realizzazione mediante Pyplasm da parte di Di Fraia Patrizio come progetto finale dell'esame di LABORATORIO DI PROGRAMAZIONE GEOMETRICA E GRAFICA (GGPL)"
   ]
  },
  {
   "cell_type": "markdown",
   "metadata": {},
   "source": [
    "![Villa](villa2.jpg)"
   ]
  },
  {
   "cell_type": "code",
   "execution_count": 2,
   "metadata": {
    "collapsed": false
   },
   "outputs": [
    {
     "name": "stdout",
     "output_type": "stream",
     "text": [
      "Evaluating fenvs.py..\n",
      "...fenvs.py imported in 0.007122 seconds\n"
     ]
    },
    {
     "name": "stderr",
     "output_type": "stream",
     "text": [
      "/usr/local/lib/python2.7/dist-packages/larlib/larstruct.py:233: FutureWarning: comparison to `None` will result in an elementwise object comparison in the future.\n",
      "  self.body = [item for item in data if item != None]\n"
     ]
    },
    {
     "name": "stdout",
     "output_type": "stream",
     "text": [
      "Child 3\n",
      "Child 3\n",
      "Child 3\n",
      "Child 3\n",
      "Child 3\n",
      "Child 3\n"
     ]
    }
   ],
   "source": [
    "from pyplasm import *\n",
    "from larlib import *\n",
    "from numpy import *\n",
    "from random import randint\n",
    "from finale_workshop import *\n",
    "import csv"
   ]
  },
  {
   "cell_type": "markdown",
   "metadata": {},
   "source": [
    "Realizzazione dei vari piani della villa\n",
    "================"
   ]
  },
  {
   "cell_type": "markdown",
   "metadata": {},
   "source": [
    "Piano Terra\n",
    "-----------"
   ]
  },
  {
   "cell_type": "code",
   "execution_count": 4,
   "metadata": {
    "collapsed": false
   },
   "outputs": [
    {
     "data": {
      "text/plain": [
       "<pyplasm.xgepy.Hpc; proxy of <Swig Object of type 'std::shared_ptr< Hpc > *' at 0xacf507a0> >"
      ]
     },
     "execution_count": 4,
     "metadata": {},
     "output_type": "execute_result"
    }
   ],
   "source": [
    "def piano_terra():\n",
    "\n",
    "    muri = fileReader(\"walls.lines\", 1.1)\n",
    "    muro1 = T([1,2])([-0.03,-0.03])(CUBOID([7.41, 0.03,0.5]))\n",
    "    muro2 = T([1,2])([-0.06,-0.06])(CUBOID([7.47, 0.03,0.3]))\n",
    "    muro3 = T([1, 2, 3])([-0.06, -0.06, 0.95])(CUBOID([7.47, 0.06, 0.15]))\n",
    "    muroesterno_altezza1 = STRUCT([muro1, T(2)(7.38)(muro1), T(1)(-0.03)(R([1,2])(PI/2)(muro1)), T(1)(7.35)(R([1,2])(PI/2)(muro1))])\n",
    "    muroesterno_altezza2 = STRUCT([muro2, T(2)(7.44)(muro2), T(1)(-0.09)(R([1,2])(PI/2)(muro2)), T(1)(7.35)(R([1,2])(PI/2)(muro2))])\n",
    "    muroesterno_altezza3 = STRUCT([muro3, T(2)(7.41)(muro3), T(1)(-0.06)(R([1, 2])(PI / 2)(muro3)), T(1)(7.35)(R([1, 2])(PI / 2)(muro3))])\n",
    "    port = CUBOID([0.6, 0.21, 0.9])\n",
    "    porta2 = STRUCT([T([1, 2])([3.4, -0.06])(port), T([1, 2])([3.4, 7.2])(port),T([1, 2])([0.15, 3.4])(R([1, 2])(PI / 2)(port)),T([1, 2])([7.41, 3.4])(R([1, 2])(PI / 2)(port))])\n",
    "    portaf = STRUCT([R([1, 2])(PI / 4)(T([1, 2])([3.1, -0.15])(CUBOID([4.2, 0.3, 0.75]))),T(1)(7.4)(R([1, 2])(3 * PI / 4)(T([1, 2])([3.1, -0.15])(CUBOID([4.2, 0.3, 0.75])))),T([1,2])([3.4, 1.85])(OFFSET([0.0, 4.0])(port)),T([1, 2])([1.7, 4.05])(R([1, 2])(-PI / 2)(OFFSET([0.0, 4.0])(S(1)([0.75 / 0.6])(port))))])\n",
    "    centrale = DIFFERENCE([T([1, 2])([3.7, 3.675])(DIFFERENCE([MY_CYLINDER([1.71, 1.1])(32),MY_CYLINDER([1.21, 1.1])(32)]))])\n",
    "    struttura = STRUCT([fileReader(\"internalDoors.lines\", 1), T(3)(0.575)(fileReader(\"windows2.lines\", 0.3)), porta2,portaf])\n",
    "    pavimento = STRUCT([TEXTURE(\"marmo_rosso2.png\")(T(3)(-0.005)(CUBOID([7.35, 7.35, 0.005]))),COLOR(Color1)(T(3)(-0.012)(CUBOID([7.35, 7.35, 0.005])))])\n",
    "    struttura_pavimentazione_result = COLOR(Color2)(DIFFERENCE([STRUCT([muri, centrale]), struttura]))\n",
    "    VIEW(struttura_pavimentazione_result)\n",
    "    struttura2 = COLOR(Color1)(DIFFERENCE([STRUCT([muroesterno_altezza1, muroesterno_altezza2, muroesterno_altezza3]), struttura]))\n",
    "    finestra1 = T([2, 3])([0.02, 0.575])(finestra2(3))\n",
    "    finestrelle1 = STRUCT([T(1)(0.6)(finestra1), T(1)(2.1)(finestra1), T(1)(4.9)(finestra1),T(1)(6.35)(finestra1)])\n",
    "    finestrelle2 = STRUCT([T([1,2])([0.07,0.8])(R([1, 2])(PI / 2)(finestra1)), T([1,2])([0.07,2.1])(R([1, 2])(PI / 2)(finestra1)),T([1, 2])([0.07, 4.9])(R([1, 2])(PI / 2)(finestra1)),T([1,2])([0.07,6.1])(R([1, 2])(PI / 2)(finestra1))])\n",
    "    \n",
    "    finestrelle_result = STRUCT([finestrelle1, T(1)(0.02)(finestrelle2), T(2)(7.26)(finestrelle1), T(1)(7.28)(finestrelle2)])\n",
    "    VIEW(finestrelle_result)\n",
    "\n",
    "    portapp = T(1)(3.4)(porta(2))\n",
    "    porta1 = STRUCT([portapp, T(1)(7.35)(R([1, 2])(PI / 2)(portapp)), T(2)(7.4)(R([1, 2])(-PI / 2)(portapp)),T([1, 2])([7.4, 7.35])(R([1, 2])(PI)(portapp))])\n",
    "    porta2 = porta(3)\n",
    "    porta2_v = STRUCT([T([1,2])([0.6,1.875])(porta2),T([1,2])([0.6,3.175])(porta2),T([1,2])([0.6,4.075])(porta2),T([1,2])([0.6,5.375])(porta2)])\n",
    "    porta2_h = STRUCT([T([1,2])([2.975,0.75])(R([1,2])(PI/2)(porta(5))), T([1, 2])([2.975, 6.15])(R([1, 2])(PI / 2)(porta(5)))])\n",
    "    porteInterne = STRUCT([porta2_v,porta2_h,T(1)(5.8)(porta2_v),T(1)(1.525)(porta2_h)])\n",
    "\n",
    "    app2 = T([1, 2])([1.2, 0.15])(R([1, 2])(-PI / 2)(porta(4)))\n",
    "    porteInterne2 = STRUCT([R([1, 2])(PI / 4)(app2), R([1, 2])(3 * PI / 4)(T([1, 2])([0.096, 0.085])(app2)),R([1, 2])(-3 * PI / 4)(T([1, 2])([0.205, -0.002])(app2)),R([1, 2])(-PI / 4)(T([1, 2])([0.1165, -0.086])(app2))])\n",
    "    VIEW(porteInterne2)\n",
    "    piano_terra_result=STRUCT([struttura_pavimentazione_result, pavimento, finestrelle_result, porta1, porteInterne,T([1,2])([3.76,3.76])(porteInterne2),struttura2])\n",
    "    VIEW(piano_terra_result)\n",
    "    return piano_terra_result\n",
    "VIEW(piano_terra())\n"
   ]
  },
  {
   "cell_type": "markdown",
   "metadata": {},
   "source": [
    "Struttura spoglia\n",
    "------------"
   ]
  },
  {
   "cell_type": "markdown",
   "metadata": {},
   "source": [
    "![piano terra](pt1.png)"
   ]
  },
  {
   "cell_type": "markdown",
   "metadata": {},
   "source": [
    "Porte e Finestre\n",
    "--------------"
   ]
  },
  {
   "cell_type": "markdown",
   "metadata": {},
   "source": [
    "![piano terra](pt2.png)"
   ]
  },
  {
   "cell_type": "markdown",
   "metadata": {},
   "source": [
    "![piano terra](pt3.png)"
   ]
  },
  {
   "cell_type": "markdown",
   "metadata": {},
   "source": [
    "![piano terra](pt4.png)"
   ]
  },
  {
   "cell_type": "markdown",
   "metadata": {},
   "source": [
    "Piano Terra completo\n",
    "========="
   ]
  },
  {
   "cell_type": "markdown",
   "metadata": {},
   "source": [
    "![piano terra](pt5.png)"
   ]
  },
  {
   "cell_type": "markdown",
   "metadata": {},
   "source": [
    "![piano terra](pt6.png)"
   ]
  },
  {
   "cell_type": "markdown",
   "metadata": {},
   "source": [
    "![piano terra](pt7.png)"
   ]
  },
  {
   "cell_type": "markdown",
   "metadata": {},
   "source": [
    "Primo Piano\n",
    "==========="
   ]
  },
  {
   "cell_type": "code",
   "execution_count": null,
   "metadata": {
    "collapsed": true
   },
   "outputs": [],
   "source": [
    "def piano_primo():\n",
    "\n",
    "    muri = fileReader(\"walls.lines\", 2.2)\n",
    "    muro1 = T([1, 2])([-0.03, -0.03])(CUBOID([7.41, 0.03, 0.15]))\n",
    "    muro2 = T([1, 2])([-0.06, -0.06])(CUBOID([7.47, 0.06, 0.15]))\n",
    "    muroesterno_altezza1 = STRUCT([muro1, T(2)(7.38)(muro1), T(1)(-0.03)(R([1, 2])(PI / 2)(muro1)), T(1)(7.35)(R([1, 2])(PI / 2)(muro1))])\n",
    "    muroesterno_altezza2 = STRUCT([muro2, T(2)(7.41)(muro2), T(1)(-0.06)(R([1, 2])(PI / 2)(muro2)), T(1)(7.35)(R([1, 2])(PI / 2)(muro2))])\n",
    "    muricompletinterni = STRUCT([muri, T([1,2])([3.37,2])(CUBOID([0.66,0.3,2.1])), T([1,2])([3.37,5.05])(CUBOID([0.66,0.3,2.1])),T([1,2])([2.05,3.27])(CUBOID([0.3,0.86,2.1])), T([1,2])([5.05,3.27])(CUBOID([0.3,0.86,2.1]))])\n",
    "    porta1 = STRUCT([CUBOID([0.6, 0.21, 1.5]), T([1, 3])([0.3, 1.5])(R([2, 3])(-PI / 2)(MY_CYLINDER([0.3, 0.21])(64)))])\n",
    "    muroporta = CUBOID([0.6, 0.21, 1.4])\n",
    "    muroesternoporta = STRUCT([T([1, 2])([3.4, -0.06])(muroporta), T([1, 2])([3.4, 7.2])(muroporta),T([1, 2])([0.15, 3.4])(R([1, 2])(PI / 2)(muroporta)),T([1, 2])([7.41, 3.4])(R([1, 2])(PI / 2)(muroporta))])\n",
    "\n",
    "    elementi1 = STRUCT([R([1, 2])(PI / 4)(T([1, 2])([3.1, -0.15])(CUBOID([4.2, 0.3, 0.75]))),T(1)(7.4)(R([1, 2])(3 * PI / 4)(T([1, 2])([3.1, -0.15])(CUBOID([4.2, 0.3, 0.75])))),T([1, 2])([3.4, 1.85])(OFFSET([0.0, 4.0])(porta1)),T([1, 2])([1.7, 4.05])(R([1, 2])(-PI / 2)(OFFSET([0.0, 4.0])(S(1)([0.75 / 0.6])(porta1))))])\n",
    "    elementi2 = STRUCT([R([1, 2])(PI / 4)(T([1, 2])([3.1, -0.15])(CUBOID([4.2, 0.3, 0.3]))),T(1)(7.4)(R([1, 2])(3 * PI / 4)(T([1, 2])([3.1, -0.15])(CUBOID([4.2, 0.3, 0.33]))))])\n",
    "    VIEW(elementi1)\n",
    "    VIEW(elementi2)\n",
    "    elementi3 = T([1, 2])([3.7,3.675])(DIFFERENCE([MY_CYLINDER([1.45,2.16])(32),MY_CYLINDER([1.35,2.16])(100)]))\n",
    "    elementi4 = COLOR(Color2)(T([1, 2,3])([3.7, 3.675, 2.16])(DIFFERENCE([MY_CYLINDER([1.71, 0.04])(32),MY_CYLINDER([1.18, 0.04])(100)])))\n",
    "    VIEW(elementi3)\n",
    "    VIEW(elementi4)\n",
    "    struttura = STRUCT([fileReader(\"internalDoors.lines\", 1), T(3)(0.3)(fileReader(\"windows.lines\", 0.9)), muroesternoporta,elementi1, T(3)(1.25)(elementi2)])\n",
    "    bordo_2livelli = COLOR(Color1)(DIFFERENCE([STRUCT([muroesterno_altezza1, T(3)(1.9)(muroesterno_altezza1), T(3)(2.05)(muroesterno_altezza2)]), muroesternoporta]))\n",
    "    pavimento = STRUCT([TEXTURE(\"marmo_rosso2.png\")(T(3)(0.001)(MKPOL([[[0,0],[0,7.35],[7.35,0],[7.35,7.35]],[[1, 2, 3, 4]],[[1]]]))), COLOR(Color2)(T(3)(-0.011)(CUBOID([7.35,7.35,0.01])))])\n",
    "\n",
    "    piano1finale = COLOR(Color2)(DIFFERENCE([STRUCT([muricompletinterni, elementi3]), struttura]))\n",
    "    VIEW(piano1finale)\n",
    "\n",
    "    fapp = STRUCT([finestra(1), T([1, 3])([0.09, 0.3])(finestra2(1))])\n",
    "    finestrelle1 = STRUCT([ T(1)(0.51)(fapp), T(1)(6.26)(fapp)])\n",
    "    finestrelle2 = STRUCT([T(2)(1.29)(R([1,2])(-PI/2)(fapp)),T(2)(6.59)(R([1,2])(-PI/2)(fapp))])\n",
    "    finestrelle_result = STRUCT([finestrelle1,finestrelle2,T([1,2])([7.35,7.35])(R([1,2])(PI)(finestrelle1)), T([1,2])([7.35,7.35])(R([1,2])(-PI)(finestrelle2))])\n",
    "    papp = T(1)(3.145)(STRUCT([porta_struttura(1), T(1)(0.255)(porta(1))]))\n",
    "    porta1 = STRUCT([papp,T(1)(7.35)(R([1,2])(PI/2)(papp)), T(2)(7.4)(R([1,2])(-PI/2)(papp)), T([1,2])([7.4,7.35])(R([1,2])(PI)(papp))])\n",
    "    finestra1 = finestra2(1)\n",
    "    finestre2 = STRUCT([T([1,2,3])([2.1,0.02,0.3])(finestra1),T([1,2,3])([4.9,0.02,0.3])(finestra1),T([1,2,3])([2.1,7.23,0.3])(finestra1), T([1,2,3])([4.9,7.23,0.3])(finestra1)])\n",
    "    finestravetro = T([1,3])([0.077,0.3])(R([1,2])(PI/2)(finestra2(4)))\n",
    "    finestrevetro = STRUCT([T(2)(2.1)(finestravetro),T(2)(2.75)(finestravetro),T(2)(4.25)(finestravetro),T(2)(4.95)(finestravetro), T([1,2])([7.271,2.1])(finestravetro),T([1,2])([7.271,2.75])(finestravetro), T([1,2])([7.271,4.25])(finestravetro), T([1,2])([7.271,4.95])(finestravetro)])\n",
    "    VIEW(finestravetro)\n",
    "    porta2 = porta(3)\n",
    "    porta2_v = STRUCT([T([1, 2])([0.6, 1.875])(porta2), T([1, 2])([0.6, 3.175])(porta2), T([1, 2])([0.6, 4.075])(porta2),T([1, 2])([0.6, 5.375])(porta2)])\n",
    "    porta2_h = STRUCT([T([1, 2])([2.975, 0.75])(R([1, 2])(PI / 2)(porta(5))),T([1, 2])([2.975, 6.15])(R([1, 2])(PI / 2)(porta(5)))])\n",
    "    porteInterne = STRUCT([porta2_v, porta2_h, T(1)(5.8)(porta2_v), T(1)(1.525)(porta2_h)])\n",
    "    app2 = T([1,2])([1.23,0.15])(R([1,2])(-PI/2)(STRUCT([porta_struttura(2), porta(4)])))\n",
    "    porteInterne2 = STRUCT([R([1,2])(PI/4)(app2), R([1,2])(3*PI/4)(T([1,2])([0.096,0.085])(app2)),R([1,2])(-3*PI/4)(T([1,2])([0.205, -0.002])(app2)),R([1,2])(-PI/4)(T([1,2])([0.1165,-0.086])(app2))])\n",
    "    cornice_finestra_app = T([1,2,3])([1.23,0.15,1.25])(R([1,2])(-PI/2)(finestra(2)))\n",
    "    finestre_cornice = STRUCT([R([1, 2])(PI / 4)(cornice_finestra_app), R([1, 2])(3 * PI / 4)(T([1, 2])([0.096, 0.085])(cornice_finestra_app)),R([1, 2])(-3 * PI / 4)(T([1, 2])([0.205, -0.002])(cornice_finestra_app)),R([1, 2])(-PI / 4)(T([1, 2])([0.1165, -0.086])(cornice_finestra_app))])\n",
    "    app_scala = T(1)(0.075)(DIFFERENCE([T(2)(-0.085)(CUBOID([0.25, 0.17, 0.055])), R([1, 2])(PI / 12)(T(2)(0.17)(CUBOID([0.35, 0.17, 0.055])))]))\n",
    "    scala_interna = []\n",
    "    scala_interna.append(app_scala)\n",
    "    for i in range(1, 40):\n",
    "        gradino = T(3)(0.055 * i)(R([1, 2])(PI / 8 * i)(app_scala))\n",
    "        scala_interna.append(gradino)\n",
    "    scala_chiocciola = COLOR(Color3)(STRUCT(scala_interna))\n",
    "    app_scale = STRUCT([T([1,2])([5,4.9])(scala_chiocciola),T([1,2])([4.9,2.35])(R([1,2])(-PI/2)(scala_chiocciola)),T([1, 2])([2.35, 2.25])(R([1, 2])(-PI / 2)(scala_chiocciola)),T([1,2])([2.25,5])(R([1,2])(-PI)(scala_chiocciola))])\n",
    "    piano_senza_muri = STRUCT([T([1, 2, 3])([3.7, 3.675, 1.9])(contorno_cupola([1.35, 1.22, 1.3, 0.13, 0.07])([1.22, 1.18, 0.03])),finestrelle_result, porta1, finestre2, finestrevetro,porteInterne, T([1,2])([3.76,3.76])(porteInterne2),T([1,2])([3.76,3.76])(finestre_cornice),app_scale, bordo_2livelli])\n",
    "    VIEW(scala_chiocciola)\n",
    "    VIEW(piano_senza_muri)\n",
    "    primo_piano_result = STRUCT([piano1finale, pavimento, COLOR(Color2)(elementi4), piano_senza_muri])\n",
    "    VIEW(primo_piano_result)\n",
    "    return primo_piano_result\n",
    "\n",
    "VIEW(piano_primo())"
   ]
  },
  {
   "cell_type": "markdown",
   "metadata": {},
   "source": [
    "Elementi Vari\n",
    "--------------"
   ]
  },
  {
   "cell_type": "markdown",
   "metadata": {},
   "source": [
    "Elementi vari\n",
    "------------"
   ]
  },
  {
   "cell_type": "markdown",
   "metadata": {},
   "source": [
    "![Primo Piano](p12.png)\n"
   ]
  },
  {
   "cell_type": "markdown",
   "metadata": {},
   "source": [
    "![Primo Piano](p13.png)"
   ]
  },
  {
   "cell_type": "markdown",
   "metadata": {},
   "source": [
    "![Primo Piano](p14.png)"
   ]
  },
  {
   "cell_type": "markdown",
   "metadata": {},
   "source": [
    "![Primo Piano](p15.png)"
   ]
  },
  {
   "cell_type": "markdown",
   "metadata": {},
   "source": [
    "![Primo Piano](p17.png)"
   ]
  },
  {
   "cell_type": "markdown",
   "metadata": {},
   "source": [
    "![Primo Piano](p18.png)"
   ]
  },
  {
   "cell_type": "markdown",
   "metadata": {},
   "source": [
    "Piano Spoglio\n",
    "------------"
   ]
  },
  {
   "cell_type": "markdown",
   "metadata": {},
   "source": [
    "![Primo Piano](p11.png)"
   ]
  },
  {
   "cell_type": "markdown",
   "metadata": {},
   "source": [
    "![Primo Piano](p16.png)"
   ]
  },
  {
   "cell_type": "markdown",
   "metadata": {},
   "source": [
    "![Primo Piano](p19.png)"
   ]
  },
  {
   "cell_type": "markdown",
   "metadata": {},
   "source": [
    "Primo Piano Completo\n",
    "================="
   ]
  },
  {
   "cell_type": "markdown",
   "metadata": {},
   "source": [
    "![Primo Piano](p110.png)"
   ]
  },
  {
   "cell_type": "markdown",
   "metadata": {},
   "source": [
    "![Primo Piano](p111.png)"
   ]
  },
  {
   "cell_type": "markdown",
   "metadata": {},
   "source": [
    "![Primo Piano](p112.png)"
   ]
  },
  {
   "cell_type": "markdown",
   "metadata": {},
   "source": [
    "Secondo Piano\n",
    "==========="
   ]
  },
  {
   "cell_type": "code",
   "execution_count": 3,
   "metadata": {
    "collapsed": false
   },
   "outputs": [
    {
     "data": {
      "text/plain": [
       "<pyplasm.xgepy.Hpc; proxy of <Swig Object of type 'std::shared_ptr< Hpc > *' at 0xad0e7ef0> >"
      ]
     },
     "execution_count": 3,
     "metadata": {},
     "output_type": "execute_result"
    }
   ],
   "source": [
    "def piano_secondo():\n",
    "\n",
    "    muri = fileReader(\"walls.lines\", 1.1)\n",
    "    muro1 = T([1, 2])([-0.045, -0.045])(CUBOID([7.44, 0.045, 0.25]))\n",
    "    muro2 = T([1, 2,3])([-0.07, -0.07,0.25])(CUBOID([7.49, 0.07, 0.05]))\n",
    "    muroesterno_altezza1 = STRUCT([muro1, T(2)(7.395)(muro1), T(1)(-0.045)(R([1, 2])(PI / 2)(muro1)), T(1)(7.35)(R([1, 2])(PI / 2)(muro1))])\n",
    "    muroesterno_altezza2 = STRUCT([muro2, T(2)(7.42)(muro2), T(1)(-0.07)(R([1, 2])(PI / 2)(muro2)), T(1)(7.35)(R([1, 2])(PI / 2)(muro2))])\n",
    "    muroporta = CUBOID([0.6, 0.22, 0.85])\n",
    "    muroesternoporta = STRUCT([T([1, 2])([3.4, -0.07])(muroporta), T([1, 2])([3.4, 7.2])(muroporta),T([1, 2])([0.15, 3.4])(R([1, 2])(PI / 2)(muroporta)),T([1, 2])([7.42, 3.4])(R([1, 2])(PI / 2)(muroporta))])\n",
    "    portaf = STRUCT([R([1, 2])(PI / 4)(T([1, 2])([3.1, -0.15])(CUBOID([4.2, 0.3, 0.75]))),T(1)(7.4)(R([1, 2])(3 * PI / 4)(T([1, 2])([3.1, -0.15])(CUBOID([4.2, 0.3, 0.75]))))])\n",
    "    centrale = DIFFERENCE([T([1, 2])([3.7,3.675])(DIFFERENCE([MY_CYLINDER([1.71,1.1])(32), MY_CYLINDER([1.61, 1.1])(100)]))])\n",
    "\n",
    "    struttura = STRUCT([fileReader(\"internalDoors2.lines\", 1), T(3)(0.6)(fileReader(\"windows2.lines\", 0.3)),portaf, muroesternoporta])\n",
    "    pavimentazione = COLOR(Color1)((DIFFERENCE([T(3)(-0.014)(CUBOID([7.35, 7.35, 0.015])), T([1, 2, 3])([2, 2, -0.014])(CUBOID([3.35, 3.35, 0.015]))])))\n",
    "\n",
    "    struttura_pavimentazione_result = COLOR(Color2)(DIFFERENCE([STRUCT([muri, centrale]), struttura]))\n",
    "    finaldetails = COLOR(Color1)(DIFFERENCE([STRUCT([muroesterno_altezza1,muroesterno_altezza2]),muroesternoporta]))\n",
    "    finestra1 = T([2, 3])([0.02, 0.6])(finestra2(2))\n",
    "    finestrelle1 = STRUCT([T(1)(0.6)(finestra1), T(1)(2.1)(finestra1), T(1)(4.9)(finestra1), T(1)(6.35)(finestra1)])\n",
    "    finestrelle2 = STRUCT([T([1, 2])([0.07, 0.8])(R([1, 2])(PI / 2)(finestra1)), T([1, 2])([0.07, 2.1])(R([1, 2])(PI / 2)(finestra1)),T([1, 2])([0.07, 4.9])(R([1, 2])(PI / 2)(finestra1)), T([1, 2])([0.07, 6.1])(R([1, 2])(PI / 2)(finestra1))])\n",
    "    finestrelle_result = STRUCT([finestrelle1, T(1)(0.07)(finestrelle2), T(2)(7.21)(finestrelle1), T(1)(7.28)(finestrelle2)])\n",
    "    porta2 = porta(3)\n",
    "    porta2_v = STRUCT([T([1, 2])([0.6, 1.875])(porta2), T([1, 2])([0.6, 3.175])(porta2), T([1, 2])([0.6, 4.075])(porta2),T([1, 2])([0.6, 5.375])(porta2)])\n",
    "    porta2_h = STRUCT([T([1, 2])([2.975, 0.75])(R([1, 2])(PI / 2)(porta(5))), T([1, 2])([2.975, 6.15])(R([1, 2])(PI / 2)(porta(5)))])\n",
    "    porteInterne = STRUCT([porta2_v, porta2_h, T(1)(5.8)(porta2_v), T(1)(1.525)(porta2_h)])\n",
    "    portapp = T(1)(3.4)(porta(2))\n",
    "    porta1 = STRUCT([portapp, T(1)(7.35)(R([1, 2])(PI / 2)(portapp)), T(2)(7.4)(R([1, 2])(-PI / 2)(portapp)),T([1, 2])([7.4, 7.35])(R([1, 2])(PI)(portapp))])\n",
    "    app2 = T([1, 2])([1.5, 0.15])(R([1, 2])(-PI / 2)(porta(4)))\n",
    "    porteInterne2 = STRUCT([R([1, 2])(PI / 4)(app2), R([1, 2])(3 * PI / 4)(T([1, 2])([0.096, 0.085])(app2)),R([1, 2])(-3 * PI / 4)(T([1, 2])([0.205, -0.002])(app2)),R([1, 2])(-PI / 4)(T([1, 2])([0.1165, -0.086])(app2))])\n",
    "    secondo_piano_result=STRUCT([struttura_pavimentazione_result, finaldetails,pavimentazione, finestrelle_result, porteInterne, porta1,T([1,2])([3.76,3.76])(porteInterne2)])\n",
    "    VIEW(secondo_piano_result)\n",
    "    return secondo_piano_result\n",
    "VIEW(piano_secondo())"
   ]
  },
  {
   "cell_type": "markdown",
   "metadata": {},
   "source": [
    "![Secondo Piano](p21.png)"
   ]
  },
  {
   "cell_type": "markdown",
   "metadata": {},
   "source": [
    "![Secondo Piano](p22.png)"
   ]
  },
  {
   "cell_type": "markdown",
   "metadata": {},
   "source": [
    "![Secondo Piano](p23.png)"
   ]
  },
  {
   "cell_type": "markdown",
   "metadata": {},
   "source": [
    "Elementi Della Villa\n",
    "==============="
   ]
  },
  {
   "cell_type": "markdown",
   "metadata": {},
   "source": [
    "Finestre\n",
    "-----------\n"
   ]
  },
  {
   "cell_type": "markdown",
   "metadata": {},
   "source": [
    "Tipologia alta e tipologia più schiacciata usate nei vari piani"
   ]
  },
  {
   "cell_type": "code",
   "execution_count": 6,
   "metadata": {
    "collapsed": false
   },
   "outputs": [
    {
     "data": {
      "text/plain": [
       "<pyplasm.xgepy.Hpc; proxy of <Swig Object of type 'std::shared_ptr< Hpc > *' at 0xacf12830> >"
      ]
     },
     "execution_count": 6,
     "metadata": {},
     "output_type": "execute_result"
    }
   ],
   "source": [
    "VIEW(finestra(1))"
   ]
  },
  {
   "cell_type": "markdown",
   "metadata": {},
   "source": [
    "![finestra](fin1.png)"
   ]
  },
  {
   "cell_type": "code",
   "execution_count": 5,
   "metadata": {
    "collapsed": false
   },
   "outputs": [
    {
     "data": {
      "text/plain": [
       "<pyplasm.xgepy.Hpc; proxy of <Swig Object of type 'std::shared_ptr< Hpc > *' at 0xad0e7440> >"
      ]
     },
     "execution_count": 5,
     "metadata": {},
     "output_type": "execute_result"
    }
   ],
   "source": [
    "VIEW(finestra(2))"
   ]
  },
  {
   "cell_type": "markdown",
   "metadata": {},
   "source": [
    "![finestra](fin2.png)"
   ]
  },
  {
   "cell_type": "markdown",
   "metadata": {},
   "source": [
    "Finestre Esterne Primo Piano\n",
    "-----------------"
   ]
  },
  {
   "cell_type": "code",
   "execution_count": 7,
   "metadata": {
    "collapsed": false
   },
   "outputs": [
    {
     "data": {
      "text/plain": [
       "<pyplasm.xgepy.Hpc; proxy of <Swig Object of type 'std::shared_ptr< Hpc > *' at 0xad0e7620> >"
      ]
     },
     "execution_count": 7,
     "metadata": {},
     "output_type": "execute_result"
    }
   ],
   "source": [
    "VIEW(finestra2(1))"
   ]
  },
  {
   "cell_type": "markdown",
   "metadata": {},
   "source": [
    "![finestra](fin3.png)"
   ]
  },
  {
   "cell_type": "code",
   "execution_count": 10,
   "metadata": {
    "collapsed": false
   },
   "outputs": [
    {
     "data": {
      "text/plain": [
       "<pyplasm.xgepy.Hpc; proxy of <Swig Object of type 'std::shared_ptr< Hpc > *' at 0xad0e7248> >"
      ]
     },
     "execution_count": 10,
     "metadata": {},
     "output_type": "execute_result"
    }
   ],
   "source": [
    "VIEW(finestra2(4))"
   ]
  },
  {
   "cell_type": "markdown",
   "metadata": {},
   "source": [
    "![finestra](fin6.png)"
   ]
  },
  {
   "cell_type": "markdown",
   "metadata": {},
   "source": [
    "Finestre Esterne Secondo Piano\n",
    "-----------------"
   ]
  },
  {
   "cell_type": "code",
   "execution_count": 8,
   "metadata": {
    "collapsed": false
   },
   "outputs": [
    {
     "data": {
      "text/plain": [
       "<pyplasm.xgepy.Hpc; proxy of <Swig Object of type 'std::shared_ptr< Hpc > *' at 0xad0e7518> >"
      ]
     },
     "execution_count": 8,
     "metadata": {},
     "output_type": "execute_result"
    }
   ],
   "source": [
    "VIEW(finestra2(2))"
   ]
  },
  {
   "cell_type": "markdown",
   "metadata": {},
   "source": [
    "![finestra](fin4.png)"
   ]
  },
  {
   "cell_type": "markdown",
   "metadata": {},
   "source": [
    "Finestre piano terra e scalinata\n",
    "-------------------"
   ]
  },
  {
   "cell_type": "code",
   "execution_count": 9,
   "metadata": {
    "collapsed": false
   },
   "outputs": [
    {
     "data": {
      "text/plain": [
       "<pyplasm.xgepy.Hpc; proxy of <Swig Object of type 'std::shared_ptr< Hpc > *' at 0xad0e7560> >"
      ]
     },
     "execution_count": 9,
     "metadata": {},
     "output_type": "execute_result"
    }
   ],
   "source": [
    "VIEW(finestra2(3))"
   ]
  },
  {
   "cell_type": "markdown",
   "metadata": {},
   "source": [
    "![finestra](fin5.png)"
   ]
  },
  {
   "cell_type": "markdown",
   "metadata": {},
   "source": [
    "Struttura Porte\n",
    "==========="
   ]
  },
  {
   "cell_type": "markdown",
   "metadata": {},
   "source": [
    "Interna\n",
    "-----------"
   ]
  },
  {
   "cell_type": "code",
   "execution_count": 12,
   "metadata": {
    "collapsed": false
   },
   "outputs": [
    {
     "data": {
      "text/plain": [
       "<pyplasm.xgepy.Hpc; proxy of <Swig Object of type 'std::shared_ptr< Hpc > *' at 0xacf12cb0> >"
      ]
     },
     "execution_count": 12,
     "metadata": {},
     "output_type": "execute_result"
    }
   ],
   "source": [
    "VIEW(porta_struttura(1))"
   ]
  },
  {
   "cell_type": "markdown",
   "metadata": {},
   "source": [
    "![porta](por1.png)"
   ]
  },
  {
   "cell_type": "markdown",
   "metadata": {},
   "source": [
    "Esterna\n",
    "------"
   ]
  },
  {
   "cell_type": "code",
   "execution_count": 13,
   "metadata": {
    "collapsed": false
   },
   "outputs": [
    {
     "data": {
      "text/plain": [
       "<pyplasm.xgepy.Hpc; proxy of <Swig Object of type 'std::shared_ptr< Hpc > *' at 0xacf12770> >"
      ]
     },
     "execution_count": 13,
     "metadata": {},
     "output_type": "execute_result"
    }
   ],
   "source": [
    "VIEW(porta_struttura(2))"
   ]
  },
  {
   "cell_type": "markdown",
   "metadata": {},
   "source": [
    "![porta](por2.png)"
   ]
  },
  {
   "cell_type": "markdown",
   "metadata": {},
   "source": [
    "Porta Esterna Primo Piano\n",
    "-----------------"
   ]
  },
  {
   "cell_type": "code",
   "execution_count": 15,
   "metadata": {
    "collapsed": false
   },
   "outputs": [
    {
     "data": {
      "text/plain": [
       "<pyplasm.xgepy.Hpc; proxy of <Swig Object of type 'std::shared_ptr< Hpc > *' at 0xad0e7590> >"
      ]
     },
     "execution_count": 15,
     "metadata": {},
     "output_type": "execute_result"
    }
   ],
   "source": [
    "VIEW(porta(1))"
   ]
  },
  {
   "cell_type": "markdown",
   "metadata": {},
   "source": [
    "![porta1](po1.png)"
   ]
  },
  {
   "cell_type": "markdown",
   "metadata": {},
   "source": [
    "Porta Esterna Piano Terra \n",
    "---------------"
   ]
  },
  {
   "cell_type": "code",
   "execution_count": 17,
   "metadata": {
    "collapsed": false
   },
   "outputs": [
    {
     "data": {
      "text/plain": [
       "<pyplasm.xgepy.Hpc; proxy of <Swig Object of type 'std::shared_ptr< Hpc > *' at 0xad0e7410> >"
      ]
     },
     "execution_count": 17,
     "metadata": {},
     "output_type": "execute_result"
    }
   ],
   "source": [
    "VIEW(porta(2))"
   ]
  },
  {
   "cell_type": "markdown",
   "metadata": {},
   "source": [
    "![porta](po2.png)"
   ]
  },
  {
   "cell_type": "markdown",
   "metadata": {},
   "source": [
    "Porta Interna Primo Piano\n",
    "---------------"
   ]
  },
  {
   "cell_type": "code",
   "execution_count": 18,
   "metadata": {
    "collapsed": false
   },
   "outputs": [
    {
     "data": {
      "text/plain": [
       "<pyplasm.xgepy.Hpc; proxy of <Swig Object of type 'std::shared_ptr< Hpc > *' at 0xad0e70b0> >"
      ]
     },
     "execution_count": 18,
     "metadata": {},
     "output_type": "execute_result"
    }
   ],
   "source": [
    "VIEW(porta(3))"
   ]
  },
  {
   "cell_type": "markdown",
   "metadata": {},
   "source": [
    "![porta](po3.png)"
   ]
  },
  {
   "cell_type": "markdown",
   "metadata": {},
   "source": [
    "Porta Interna Piano Secondo e Terra\n",
    "--------------"
   ]
  },
  {
   "cell_type": "code",
   "execution_count": 19,
   "metadata": {
    "collapsed": false
   },
   "outputs": [
    {
     "data": {
      "text/plain": [
       "<pyplasm.xgepy.Hpc; proxy of <Swig Object of type 'std::shared_ptr< Hpc > *' at 0xad0e7968> >"
      ]
     },
     "execution_count": 19,
     "metadata": {},
     "output_type": "execute_result"
    }
   ],
   "source": [
    "VIEW(porta(4))"
   ]
  },
  {
   "cell_type": "markdown",
   "metadata": {},
   "source": [
    "![porta](po4.png)"
   ]
  },
  {
   "cell_type": "markdown",
   "metadata": {},
   "source": [
    "Balcone Secondo Piano\n",
    "============"
   ]
  },
  {
   "cell_type": "code",
   "execution_count": 21,
   "metadata": {
    "collapsed": false
   },
   "outputs": [
    {
     "data": {
      "text/plain": [
       "<pyplasm.xgepy.Hpc; proxy of <Swig Object of type 'std::shared_ptr< Hpc > *' at 0xacf12d88> >"
      ]
     },
     "execution_count": 21,
     "metadata": {},
     "output_type": "execute_result"
    }
   ],
   "source": [
    "VIEW(balcone_sporgenza_interna())"
   ]
  },
  {
   "cell_type": "markdown",
   "metadata": {},
   "source": [
    "![balcone](sporg.png)"
   ]
  },
  {
   "cell_type": "markdown",
   "metadata": {},
   "source": [
    "Ingresso\n",
    "=========="
   ]
  },
  {
   "cell_type": "markdown",
   "metadata": {},
   "source": [
    "Scala\n",
    "--------"
   ]
  },
  {
   "cell_type": "code",
   "execution_count": 23,
   "metadata": {
    "collapsed": false
   },
   "outputs": [
    {
     "data": {
      "text/plain": [
       "<pyplasm.xgepy.Hpc; proxy of <Swig Object of type 'std::shared_ptr< Hpc > *' at 0xad0e7710> >"
      ]
     },
     "execution_count": 23,
     "metadata": {},
     "output_type": "execute_result"
    }
   ],
   "source": [
    "VIEW(scalinata_ingresso())"
   ]
  },
  {
   "cell_type": "markdown",
   "metadata": {},
   "source": [
    "![scala](scala.png)"
   ]
  },
  {
   "cell_type": "markdown",
   "metadata": {},
   "source": [
    "Facciata\n",
    "---------"
   ]
  },
  {
   "cell_type": "code",
   "execution_count": 24,
   "metadata": {
    "collapsed": false
   },
   "outputs": [
    {
     "data": {
      "text/plain": [
       "<pyplasm.xgepy.Hpc; proxy of <Swig Object of type 'std::shared_ptr< Hpc > *' at 0xaceed3f8> >"
      ]
     },
     "execution_count": 24,
     "metadata": {},
     "output_type": "execute_result"
    }
   ],
   "source": [
    "VIEW(parete_laterale())"
   ]
  },
  {
   "cell_type": "markdown",
   "metadata": {},
   "source": [
    "![ingresso](par1.png)"
   ]
  },
  {
   "cell_type": "markdown",
   "metadata": {},
   "source": [
    "![ingresso](par2.png)"
   ]
  },
  {
   "cell_type": "markdown",
   "metadata": {},
   "source": [
    "Tetto\n",
    "========="
   ]
  },
  {
   "cell_type": "code",
   "execution_count": 25,
   "metadata": {
    "collapsed": false
   },
   "outputs": [
    {
     "name": "stdout",
     "output_type": "stream",
     "text": [
      "Child 3\n"
     ]
    },
    {
     "data": {
      "text/plain": [
       "<pyplasm.xgepy.Hpc; proxy of <Swig Object of type 'std::shared_ptr< Hpc > *' at 0xacf129e0> >"
      ]
     },
     "execution_count": 25,
     "metadata": {},
     "output_type": "execute_result"
    }
   ],
   "source": [
    "VIEW(tetto())"
   ]
  },
  {
   "cell_type": "markdown",
   "metadata": {},
   "source": [
    "![tetto](te1.png)"
   ]
  },
  {
   "cell_type": "markdown",
   "metadata": {},
   "source": [
    "![tetto](te2.png)"
   ]
  },
  {
   "cell_type": "markdown",
   "metadata": {},
   "source": [
    "![tetto](te3.png)"
   ]
  },
  {
   "cell_type": "markdown",
   "metadata": {},
   "source": [
    "Esterno della villa\n",
    "==========="
   ]
  },
  {
   "cell_type": "code",
   "execution_count": 32,
   "metadata": {
    "collapsed": false
   },
   "outputs": [
    {
     "name": "stdout",
     "output_type": "stream",
     "text": [
      "Child 3\n",
      "Child 3\n",
      "Child 3\n",
      "Child 3\n",
      "Child 3\n"
     ]
    },
    {
     "data": {
      "text/plain": [
       "<pyplasm.xgepy.Hpc; proxy of <Swig Object of type 'std::shared_ptr< Hpc > *' at 0xacefeb90> >"
      ]
     },
     "execution_count": 32,
     "metadata": {},
     "output_type": "execute_result"
    }
   ],
   "source": [
    "VIEW(recinsione())"
   ]
  },
  {
   "cell_type": "markdown",
   "metadata": {},
   "source": [
    "![recinsione](r1.png)"
   ]
  },
  {
   "cell_type": "markdown",
   "metadata": {},
   "source": [
    "![recinsione](r1.png)"
   ]
  },
  {
   "cell_type": "markdown",
   "metadata": {},
   "source": [
    "![recinsione](r2.png)"
   ]
  },
  {
   "cell_type": "markdown",
   "metadata": {},
   "source": [
    "![recinsione](r3.png)"
   ]
  },
  {
   "cell_type": "markdown",
   "metadata": {},
   "source": [
    "![recinsione](r4.png)"
   ]
  },
  {
   "cell_type": "markdown",
   "metadata": {},
   "source": [
    "VILLA COMPLETA \n",
    "=========="
   ]
  },
  {
   "cell_type": "markdown",
   "metadata": {},
   "source": [
    "Nella scelta dei dettagli esterni mi sono basato su una foto della villa cercando di farla più simile possibile ad essa"
   ]
  },
  {
   "cell_type": "markdown",
   "metadata": {},
   "source": [
    "![villa](villa.jpg)"
   ]
  },
  {
   "cell_type": "code",
   "execution_count": 33,
   "metadata": {
    "collapsed": false
   },
   "outputs": [
    {
     "name": "stdout",
     "output_type": "stream",
     "text": [
      "Child 3\n",
      "Child 3\n",
      "Child 3\n",
      "Child 3\n",
      "Child 3\n",
      "Child 3\n"
     ]
    },
    {
     "data": {
      "text/plain": [
       "<pyplasm.xgepy.Hpc; proxy of <Swig Object of type 'std::shared_ptr< Hpc > *' at 0xad0e7ed8> >"
      ]
     },
     "execution_count": 33,
     "metadata": {},
     "output_type": "execute_result"
    }
   ],
   "source": [
    "VIEW(Villa_Finale([20, 20, 8.5]))"
   ]
  },
  {
   "cell_type": "markdown",
   "metadata": {},
   "source": [
    "![villa](villafin.png)"
   ]
  },
  {
   "cell_type": "markdown",
   "metadata": {},
   "source": [
    "Esplorando un po la villa\n",
    "=============="
   ]
  },
  {
   "cell_type": "markdown",
   "metadata": {},
   "source": [
    "![villa](villa1.png)"
   ]
  },
  {
   "cell_type": "markdown",
   "metadata": {},
   "source": [
    "![villa](villa2.png)"
   ]
  },
  {
   "cell_type": "markdown",
   "metadata": {},
   "source": [
    "![villa](villa3.png)"
   ]
  },
  {
   "cell_type": "markdown",
   "metadata": {},
   "source": [
    "![villa](villa4.png)"
   ]
  },
  {
   "cell_type": "markdown",
   "metadata": {},
   "source": [
    "![villa](villa5.png)"
   ]
  },
  {
   "cell_type": "markdown",
   "metadata": {},
   "source": [
    "![villa](villa6.png)"
   ]
  },
  {
   "cell_type": "code",
   "execution_count": null,
   "metadata": {
    "collapsed": true
   },
   "outputs": [],
   "source": []
  }
 ],
 "metadata": {
  "kernelspec": {
   "display_name": "Python 2",
   "language": "python",
   "name": "python2"
  },
  "language_info": {
   "codemirror_mode": {
    "name": "ipython",
    "version": 2
   },
   "file_extension": ".py",
   "mimetype": "text/x-python",
   "name": "python",
   "nbconvert_exporter": "python",
   "pygments_lexer": "ipython2",
   "version": "2.7.12"
  }
 },
 "nbformat": 4,
 "nbformat_minor": 1
}
