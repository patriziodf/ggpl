{
 "cells": [
  {
   "cell_type": "markdown",
   "metadata": {},
   "source": [
    "Laboratorio Esercitazione 1\n",
    "==================\n",
    "Riassunto e analisi delle funzioni numpy\n",
    "----------------------"
   ]
  },
  {
   "cell_type": "code",
   "execution_count": 4,
   "metadata": {
    "collapsed": false,
    "scrolled": true
   },
   "outputs": [
    {
     "data": {
      "text/plain": [
       "array([[ 0,  1,  2,  3,  4],\n",
       "       [ 5,  6,  7,  8,  9],\n",
       "       [10, 11, 12, 13, 14]])"
      ]
     },
     "execution_count": 4,
     "metadata": {},
     "output_type": "execute_result"
    }
   ],
   "source": [
    "from numpy  import *\n",
    "a = arange(15).reshape(3, 5)\n",
    "a\n"
   ]
  },
  {
   "cell_type": "markdown",
   "metadata": {},
   "source": [
    "Creata matrice da 3 righe e 5 colonne"
   ]
  },
  {
   "cell_type": "code",
   "execution_count": 9,
   "metadata": {
    "collapsed": false
   },
   "outputs": [
    {
     "data": {
      "text/plain": [
       "2"
      ]
     },
     "execution_count": 9,
     "metadata": {},
     "output_type": "execute_result"
    }
   ],
   "source": [
    "a.ndim\n"
   ]
  },
  {
   "cell_type": "markdown",
   "metadata": {},
   "source": [
    "dimensioni della matrice"
   ]
  },
  {
   "cell_type": "code",
   "execution_count": 10,
   "metadata": {
    "collapsed": false
   },
   "outputs": [
    {
     "data": {
      "text/plain": [
       "15"
      ]
     },
     "execution_count": 10,
     "metadata": {},
     "output_type": "execute_result"
    }
   ],
   "source": [
    "a.size\n"
   ]
  },
  {
   "cell_type": "markdown",
   "metadata": {},
   "source": [
    "numero elementi della matrice"
   ]
  },
  {
   "cell_type": "code",
   "execution_count": 12,
   "metadata": {
    "collapsed": false
   },
   "outputs": [
    {
     "data": {
      "text/plain": [
       "array([[ 1.5,  2. ,  3. ],\n",
       "       [ 4. ,  5. ,  6. ]])"
      ]
     },
     "execution_count": 12,
     "metadata": {},
     "output_type": "execute_result"
    }
   ],
   "source": [
    "b = array( [ (1.5,2,3), (4,5,6) ] )\n",
    "b\n"
   ]
  },
  {
   "cell_type": "markdown",
   "metadata": {},
   "source": [
    "array trasforma n sequenze in array n-dimensionali"
   ]
  },
  {
   "cell_type": "code",
   "execution_count": 15,
   "metadata": {
    "collapsed": false,
    "scrolled": true
   },
   "outputs": [
    {
     "data": {
      "text/plain": [
       "array([[2, 0],\n",
       "       [0, 4]])"
      ]
     },
     "execution_count": 15,
     "metadata": {},
     "output_type": "execute_result"
    }
   ],
   "source": [
    " A = array( [[1,1],[0,1]] )\n",
    "B = array( [[2,0],[3,4]] )\n",
    "A*B\n",
    "\n"
   ]
  },
  {
   "cell_type": "code",
   "execution_count": 16,
   "metadata": {
    "collapsed": false
   },
   "outputs": [
    {
     "data": {
      "text/plain": [
       "array([[5, 4],\n",
       "       [3, 4]])"
      ]
     },
     "execution_count": 16,
     "metadata": {},
     "output_type": "execute_result"
    }
   ],
   "source": [
    "dot(A,B)\n"
   ]
  },
  {
   "cell_type": "markdown",
   "metadata": {
    "collapsed": true
   },
   "source": [
    "arange zeros e one so funzioni utili che consentono di generare array desiderati senza inserire manualmente i valori.\n",
    "rispettivamente zeros e one tutti 0 e 1, arange invece indicando intervallo e passo."
   ]
  },
  {
   "cell_type": "code",
   "execution_count": 1,
   "metadata": {
    "collapsed": false
   },
   "outputs": [
    {
     "data": {
      "text/plain": [
       "array([0, 4, 8])"
      ]
     },
     "execution_count": 1,
     "metadata": {},
     "output_type": "execute_result"
    }
   ],
   "source": [
    "import numpy as np\n",
    "b=np.arange(12).reshape(3,4)\n",
    "b\n",
    "b.min(axis=1)\n"
   ]
  },
  {
   "cell_type": "markdown",
   "metadata": {},
   "source": [
    "attraverso la funzione axis è possibile scegliere in base a quale asse applicare una determianta operazione"
   ]
  },
  {
   "cell_type": "markdown",
   "metadata": {},
   "source": [
    "sugli arrray sono presenti altre funzioni di interesse ma che già abbiamo studiato nella slide learn x in y in particolar modo quelle relative all'accesso su array \n"
   ]
  },
  {
   "cell_type": "code",
   "execution_count": 4,
   "metadata": {
    "collapsed": true
   },
   "outputs": [],
   "source": [
    "from numpy import *\n"
   ]
  },
  {
   "cell_type": "code",
   "execution_count": 5,
   "metadata": {
    "collapsed": true
   },
   "outputs": [],
   "source": [
    "punti=random.rand(100,2)"
   ]
  },
  {
   "cell_type": "code",
   "execution_count": 6,
   "metadata": {
    "collapsed": false,
    "scrolled": true
   },
   "outputs": [
    {
     "data": {
      "text/plain": [
       "array([[ 0.42300084,  0.41678629],\n",
       "       [ 0.26105348,  0.87990356],\n",
       "       [ 0.06527506,  0.59910716],\n",
       "       [ 0.555986  ,  0.72264708],\n",
       "       [ 0.15194172,  0.30468254],\n",
       "       [ 0.93774678,  0.79638365],\n",
       "       [ 0.59186759,  0.47607993],\n",
       "       [ 0.37957217,  0.75624355],\n",
       "       [ 0.55249329,  0.22755506],\n",
       "       [ 0.9000241 ,  0.37875888],\n",
       "       [ 0.3130707 ,  0.36016831],\n",
       "       [ 0.93843233,  0.47092741],\n",
       "       [ 0.41562182,  0.40898116],\n",
       "       [ 0.13373347,  0.25242172],\n",
       "       [ 0.09011352,  0.28354074],\n",
       "       [ 0.50012132,  0.26042328],\n",
       "       [ 0.35560574,  0.95294503],\n",
       "       [ 0.51129286,  0.84417476],\n",
       "       [ 0.36324654,  0.76847267],\n",
       "       [ 0.8254599 ,  0.55543217],\n",
       "       [ 0.36782018,  0.52864461],\n",
       "       [ 0.48789686,  0.98508543],\n",
       "       [ 0.71158579,  0.31879774],\n",
       "       [ 0.14870438,  0.88067384],\n",
       "       [ 0.07344479,  0.65433162],\n",
       "       [ 0.09327947,  0.10327254],\n",
       "       [ 0.38429555,  0.43243214],\n",
       "       [ 0.51786471,  0.46103516],\n",
       "       [ 0.39260268,  0.66309829],\n",
       "       [ 0.96846445,  0.16943013],\n",
       "       [ 0.91694179,  0.73374731],\n",
       "       [ 0.26100158,  0.10169842],\n",
       "       [ 0.74938991,  0.67559144],\n",
       "       [ 0.43400615,  0.8344122 ],\n",
       "       [ 0.88265224,  0.80150342],\n",
       "       [ 0.19733225,  0.93744355],\n",
       "       [ 0.14867424,  0.98053814],\n",
       "       [ 0.30358219,  0.88031032],\n",
       "       [ 0.52610022,  0.03834761],\n",
       "       [ 0.2811505 ,  0.47170289],\n",
       "       [ 0.07938455,  0.5809199 ],\n",
       "       [ 0.8088384 ,  0.43043154],\n",
       "       [ 0.30294411,  0.51105192],\n",
       "       [ 0.14574765,  0.97800252],\n",
       "       [ 0.60568905,  0.00341819],\n",
       "       [ 0.73021789,  0.99343297],\n",
       "       [ 0.11733756,  0.75712313],\n",
       "       [ 0.6209094 ,  0.76000811],\n",
       "       [ 0.52933443,  0.81985201],\n",
       "       [ 0.99896181,  0.06510455],\n",
       "       [ 0.78178703,  0.28301766],\n",
       "       [ 0.60047825,  0.50959689],\n",
       "       [ 0.65517295,  0.36935922],\n",
       "       [ 0.53886309,  0.42672483],\n",
       "       [ 0.58539361,  0.42631568],\n",
       "       [ 0.85632395,  0.65428845],\n",
       "       [ 0.80640048,  0.92992653],\n",
       "       [ 0.93257195,  0.96258936],\n",
       "       [ 0.05191864,  0.26142541],\n",
       "       [ 0.54580212,  0.60578767],\n",
       "       [ 0.39932295,  0.02391706],\n",
       "       [ 0.66967605,  0.49720812],\n",
       "       [ 0.43091942,  0.88699115],\n",
       "       [ 0.84868318,  0.28064339],\n",
       "       [ 0.38754876,  0.59199196],\n",
       "       [ 0.97232059,  0.15244495],\n",
       "       [ 0.42559957,  0.13707943],\n",
       "       [ 0.71786638,  0.32088365],\n",
       "       [ 0.33998607,  0.91983771],\n",
       "       [ 0.99117346,  0.76791361],\n",
       "       [ 0.19207393,  0.09592269],\n",
       "       [ 0.55169084,  0.48713736],\n",
       "       [ 0.41834712,  0.39121268],\n",
       "       [ 0.61956942,  0.68133903],\n",
       "       [ 0.12869568,  0.23634994],\n",
       "       [ 0.38600656,  0.13962431],\n",
       "       [ 0.02140987,  0.34157937],\n",
       "       [ 0.1862832 ,  0.9572946 ],\n",
       "       [ 0.0219869 ,  0.23116956],\n",
       "       [ 0.81908218,  0.0399553 ],\n",
       "       [ 0.13027081,  0.8154262 ],\n",
       "       [ 0.83136706,  0.69690817],\n",
       "       [ 0.94774203,  0.69473743],\n",
       "       [ 0.0881763 ,  0.26394974],\n",
       "       [ 0.18909016,  0.97355402],\n",
       "       [ 0.78141038,  0.70373545],\n",
       "       [ 0.40567898,  0.14619774],\n",
       "       [ 0.87023334,  0.81798926],\n",
       "       [ 0.39431668,  0.02288903],\n",
       "       [ 0.82775781,  0.20617443],\n",
       "       [ 0.60082999,  0.9066102 ],\n",
       "       [ 0.96437796,  0.6202025 ],\n",
       "       [ 0.76059282,  0.3590052 ],\n",
       "       [ 0.15476659,  0.14171739],\n",
       "       [ 0.19272052,  0.85433772],\n",
       "       [ 0.66290038,  0.37945794],\n",
       "       [ 0.81133535,  0.13057391],\n",
       "       [ 0.82272875,  0.6185559 ],\n",
       "       [ 0.07463126,  0.10694318],\n",
       "       [ 0.05949444,  0.89819919]])"
      ]
     },
     "execution_count": 6,
     "metadata": {},
     "output_type": "execute_result"
    }
   ],
   "source": [
    "punti\n"
   ]
  },
  {
   "cell_type": "code",
   "execution_count": 8,
   "metadata": {
    "collapsed": false
   },
   "outputs": [
    {
     "name": "stdout",
     "output_type": "stream",
     "text": [
      "Evaluating fenvs.py..\n",
      "...fenvs.py imported in 0.011543 seconds\n"
     ]
    }
   ],
   "source": [
    "from pyplasm import *"
   ]
  },
  {
   "cell_type": "code",
   "execution_count": 9,
   "metadata": {
    "collapsed": false
   },
   "outputs": [
    {
     "data": {
      "text/plain": [
       "<pyplasm.xgepy.Hpc; proxy of <Swig Object of type 'std::shared_ptr< Hpc > *' at 0xadff64b8> >"
      ]
     },
     "execution_count": 9,
     "metadata": {},
     "output_type": "execute_result"
    }
   ],
   "source": [
    "VIEW(STRUCT([MK(p) for p in punti]))"
   ]
  },
  {
   "cell_type": "markdown",
   "metadata": {},
   "source": [
    "![punti piazza](punti.png)\n"
   ]
  },
  {
   "cell_type": "code",
   "execution_count": 11,
   "metadata": {
    "collapsed": true
   },
   "outputs": [],
   "source": [
    "def larExtrude1(model,pattern):\n",
    "    \"\"\" Simplicial model extrusion in accord with a 1D pattern \"\"\"\n",
    "    V, FV = model\n",
    "    d, m = len(FV[0]), len(pattern)\n",
    "    coords = list(cumsum([0]+(AA(ABS)(pattern))))\n",
    "    offset, outcells, rangelimit = len(V), [], d*m\n",
    "    for cell in FV:\n",
    "        tube = [v + k*offset for k in range(m+1) for v in cell]\n",
    "        cellTube = [tube[k:k+d+1] for k in range(rangelimit)]\n",
    "        outcells += [reshape(cellTube, newshape=(m,d,d+1)).tolist()]\n",
    "    outcells = AA(CAT)(TRANS(outcells))\n",
    "    cellGroups = [group for k,group in enumerate(outcells) if pattern[k]>0]\n",
    "    outVertices = [v+[z] for z in coords for v in V]\n",
    "    outModel = outVertices, CAT(cellGroups)\n",
    "    return outModel"
   ]
  },
  {
   "cell_type": "code",
   "execution_count": 12,
   "metadata": {
    "collapsed": true
   },
   "outputs": [],
   "source": [
    "model = [[0,0],[1,0],[0,1]], [[0,1,2]]\n",
    "pattern = [1]"
   ]
  },
  {
   "cell_type": "code",
   "execution_count": 14,
   "metadata": {
    "collapsed": false
   },
   "outputs": [
    {
     "name": "stderr",
     "output_type": "stream",
     "text": [
      "/usr/local/lib/python2.7/dist-packages/larlib/larstruct.py:233: FutureWarning: comparison to `None` will result in an elementwise object comparison in the future.\n",
      "  self.body = [item for item in data if item != None]\n"
     ]
    }
   ],
   "source": [
    "from larlib import *"
   ]
  },
  {
   "cell_type": "code",
   "execution_count": 15,
   "metadata": {
    "collapsed": false
   },
   "outputs": [
    {
     "data": {
      "text/plain": [
       "<pyplasm.xgepy.Hpc; proxy of <Swig Object of type 'std::shared_ptr< Hpc > *' at 0xabfdcd88> >"
      ]
     },
     "execution_count": 15,
     "metadata": {},
     "output_type": "execute_result"
    }
   ],
   "source": [
    "pattern = [1]*10\n",
    "VIEW(STRUCT(MKPOLS((larExtrude1(model,pattern)))))"
   ]
  },
  {
   "cell_type": "markdown",
   "metadata": {},
   "source": [
    "![esempio 1](p1.png)"
   ]
  },
  {
   "cell_type": "code",
   "execution_count": 16,
   "metadata": {
    "collapsed": false
   },
   "outputs": [
    {
     "data": {
      "text/plain": [
       "<pyplasm.xgepy.Hpc; proxy of <Swig Object of type 'std::shared_ptr< Hpc > *' at 0xac00a7a0> >"
      ]
     },
     "execution_count": 16,
     "metadata": {},
     "output_type": "execute_result"
    }
   ],
   "source": [
    "V = [[0,0],[1,0],[2,0],[0,1],[1,1],[2,1],[0,2],[1,2],[2,2]]\n",
    "FV = [[0,1,3],[1,2,4],[2,4,5],[3,4,6],[4,6,7],[5,7,8]]\n",
    "model = larExtrude1((V,FV),4*[1,2,-3])\n",
    "VIEW(EXPLODE(1,1,1.2)(MKPOLS(model)))"
   ]
  },
  {
   "cell_type": "markdown",
   "metadata": {},
   "source": [
    "![esempio 2](p2.png)"
   ]
  },
  {
   "cell_type": "code",
   "execution_count": 18,
   "metadata": {
    "collapsed": false
   },
   "outputs": [
    {
     "data": {
      "text/plain": [
       "<pyplasm.xgepy.Hpc; proxy of <Swig Object of type 'std::shared_ptr< Hpc > *' at 0xacd5e848> >"
      ]
     },
     "execution_count": 18,
     "metadata": {},
     "output_type": "execute_result"
    }
   ],
   "source": [
    "model = larExtrude1( VOID, 10*[1] )\n",
    "VIEW(EXPLODE(1.5,1.5,1.5)(MKPOLS(model)))\n",
    "model = larExtrude1( model, 10*[1] )\n",
    "VIEW(EXPLODE(1.5,1.5,1.5)(MKPOLS(model)))\n",
    "model = larExtrude1( model, 10*[1] )\n",
    "VIEW(EXPLODE(1.5,1.5,1.5)(MKPOLS(model)))"
   ]
  },
  {
   "cell_type": "markdown",
   "metadata": {},
   "source": [
    "![esempio 3](p3.png)"
   ]
  },
  {
   "cell_type": "code",
   "execution_count": 27,
   "metadata": {
    "collapsed": false
   },
   "outputs": [
    {
     "data": {
      "text/plain": [
       "<pyplasm.xgepy.Hpc; proxy of <Swig Object of type 'std::shared_ptr< Hpc > *' at 0xab9c1e60> >"
      ]
     },
     "execution_count": 27,
     "metadata": {},
     "output_type": "execute_result"
    }
   ],
   "source": [
    "model = larExtrude1( VOID, 13*[1,-1] )\n",
    "VIEW(EXPLODE(2,1.5,2)(MKPOLS(model)))\n",
    "model = larExtrude1( model, 13*[1,2] )\n",
    "VIEW(EXPLODE(1.5,3,1.5)(MKPOLS(model)))"
   ]
  },
  {
   "cell_type": "markdown",
   "metadata": {},
   "source": [
    "![esempio 4](p4.png)"
   ]
  },
  {
   "cell_type": "code",
   "execution_count": null,
   "metadata": {
    "collapsed": true
   },
   "outputs": [],
   "source": []
  }
 ],
 "metadata": {
  "kernelspec": {
   "display_name": "Python 2",
   "language": "python",
   "name": "python2"
  },
  "language_info": {
   "codemirror_mode": {
    "name": "ipython",
    "version": 2
   },
   "file_extension": ".py",
   "mimetype": "text/x-python",
   "name": "python",
   "nbconvert_exporter": "python",
   "pygments_lexer": "ipython2",
   "version": "2.7.12"
  }
 },
 "nbformat": 4,
 "nbformat_minor": 1
}
