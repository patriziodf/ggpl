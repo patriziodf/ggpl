{
 "cells": [
  {
   "cell_type": "markdown",
   "metadata": {},
   "source": [
    "Laboratorio 30 10 2017\n",
    "======================"
   ]
  },
  {
   "cell_type": "markdown",
   "metadata": {},
   "source": [
    "Workshop 2\n",
    "========"
   ]
  },
  {
   "cell_type": "markdown",
   "metadata": {},
   "source": [
    "LIBRERIA IKEA\n",
    "==============="
   ]
  },
  {
   "cell_type": "markdown",
   "metadata": {},
   "source": [
    "Libreria 1\n",
    "---------"
   ]
  },
  {
   "cell_type": "markdown",
   "metadata": {},
   "source": [
    "[libreria scelta](http://www.ikea.com/it/it/catalog/products/S49217748/)    "
   ]
  },
  {
   "cell_type": "markdown",
   "metadata": {
    "collapsed": true
   },
   "source": [
    "x dimensione coordinata x\n",
    "y dimensione coordinata y\n",
    "z dimensione coordinata z\n",
    "queste tre dimensioni che indicano le dimensioni lungo i tre assi della singola anta del singolo scaffale\n",
    "\n",
    "spx,spy,spz indicano invece lo spessore lungo i 3 assi\n",
    "\n",
    "nripiani è il numero dei ripiani dello scaffale\n",
    "nante il numero delle ante\n",
    "\n",
    "parete,tetto,laterale,base indicano le varie facce dello scaffale.\n",
    "\n",
    "paret,parete2,pavimento usate invece per craeare una specie di stanza per la libreria\n",
    "\n",
    "app e app2 sono le variabili d'appoggio usate per le repliche nei cicli\n"
   ]
  },
  {
   "cell_type": "code",
   "execution_count": 3,
   "metadata": {
    "collapsed": false
   },
   "outputs": [],
   "source": [
    "from larlib import *\n",
    "\n",
    "\"\"\"funzione dei colori \"\"\"\n",
    "def HEX(color, alpha = 1):\n",
    "\n",
    "\tdef hex_to_rgb(value):\n",
    "\t\tvalue = value.lstrip('#')\n",
    "\t\tlv = len(value)\n",
    "\t\treturn tuple(int(value[i:i + lv // 3], 16) for i in range(0, lv, lv // 3))\n",
    "\n",
    "\trgb = hex_to_rgb(color)\n",
    "\n",
    "\treturn COLOR(Color4f([rgb[0]/255., rgb[1]/255., rgb[2]/255., alpha]))\n",
    "\n",
    "def ggpl_libreria(x,spx,y,spy,z,spz,nripiani,nante):\n",
    "\t\n",
    "\n",
    "\t\"\"\"parete2 consiste nella creazione di una parete sottilissima che serve a realizzare\n",
    "\tla libreria con due colori diversi uno per l'interno e uno per l'esterno\"\"\"\n",
    "\tparete = CUBOID([spx, y, z])\n",
    "\tparete2 = T(1)(-0.01)(parete)\n",
    "\tparete2=HEX(\"#8b4513\")(parete2)\n",
    "\tparete=HEX(\"#ffdab9\")(parete)\n",
    "\n",
    "\tparete=STRUCT([parete,parete2])\n",
    "\ttetto = CUBOID([x,spy,z])\n",
    "\ttetto=HEX(\"#8b4513\")(tetto)\n",
    "\tbase=T(2)(y)(tetto)\n",
    "\tbase=HEX(\"##8b4513\")(base)\n",
    "\tlaterale = CUBOID([x,y,spz])\n",
    "\tlaterale=HEX(\"##8b4513\")(laterale)\n",
    "\tlat2=T(3)(z-spz)(laterale)\n",
    "\tripiano=STRUCT([parete,tetto,base,laterale,lat2])\n",
    "\tapp=ripiano \n",
    "\t\"\"\"variabile d'appoggio per non modificare la struttura originale che richiamo nel ciclo\"\"\"\n",
    "\ti=0\n",
    "\twhile(i<nripiani):\n",
    "\t\t\"\"\"per ripetere i ripiani\"\"\"\n",
    "\t\tc=y*i\n",
    "\t\tb=T(2)(c)(ripiano)\n",
    "\t\tapp=STRUCT([app,b])\n",
    "\t\ti=i+1\n",
    "\n",
    "\tarmadio=app\n",
    "\t\"\"\"varibile d'appoggio come sopra\"\"\"\n",
    "\ti=0\n",
    "\twhile(i<nante):\n",
    "\t\t\"\"\"per ripetere le ante \"\"\"\n",
    "\t\tc=z*i\n",
    "\t\tb=T(3)(c)(app)\n",
    "\t\tarmadio=STRUCT([armadio,b])\n",
    "\t\ti=i+1\n",
    "\n",
    "\tarmadio2=T(3)(z*nante+0.5)(armadio)\n",
    "\tarmadios=STRUCT([armadio,armadio2])\n",
    "\tpavimento = HEX(\"#f4a460\")(CUBOID([0, 3, z*nante*2+1]))\n",
    "\tparet = HEX(\"#f4a460\")(CUBOID([4, 3,0]))\n",
    "\tparete2 = HEX(\"#f4a460\")(CUBOID([4, 0,z*nante*2+1]))\n",
    "\tparete3 = T(3)(z*nante*2+1)(paret)\n",
    "\n",
    "\tarm= STRUCT([paret, pavimento, armadios,parete2,parete3])\n",
    "\treturn arm\n",
    "\n",
    "\n"
   ]
  },
  {
   "cell_type": "code",
   "execution_count": 4,
   "metadata": {
    "collapsed": false
   },
   "outputs": [
    {
     "data": {
      "text/plain": [
       "<pyplasm.xgepy.Hpc; proxy of <Swig Object of type 'std::shared_ptr< Hpc > *' at 0xad2f0a58> >"
      ]
     },
     "execution_count": 4,
     "metadata": {},
     "output_type": "execute_result"
    }
   ],
   "source": [
    "VIEW(ggpl_libreria(x=1.5,spx=0.041,y=0.5,spy=0.04,z=1.7,spz=0.1,nripiani=3,nante=4))"
   ]
  },
  {
   "cell_type": "markdown",
   "metadata": {},
   "source": [
    "![cam1](camera.png)"
   ]
  },
  {
   "cell_type": "markdown",
   "metadata": {},
   "source": [
    "![cam2](camera2.png)"
   ]
  },
  {
   "cell_type": "markdown",
   "metadata": {
    "collapsed": true
   },
   "source": [
    "Libreria 2\n",
    "----------"
   ]
  },
  {
   "cell_type": "markdown",
   "metadata": {},
   "source": [
    "![libreria](w0.png)"
   ]
  },
  {
   "cell_type": "code",
   "execution_count": 15,
   "metadata": {
    "collapsed": false
   },
   "outputs": [],
   "source": [
    "from libreria import *\n"
   ]
  },
  {
   "cell_type": "code",
   "execution_count": 17,
   "metadata": {
    "collapsed": false
   },
   "outputs": [
    {
     "data": {
      "text/plain": [
       "<pyplasm.xgepy.Hpc; proxy of <Swig Object of type 'std::shared_ptr< Hpc > *' at 0xab5b2ba8> >"
      ]
     },
     "execution_count": 17,
     "metadata": {},
     "output_type": "execute_result"
    }
   ],
   "source": [
    "VIEW(ggpl_stairBookcase2(4, 5, 6))"
   ]
  },
  {
   "cell_type": "markdown",
   "metadata": {},
   "source": [
    "![libreria](libr2.png)"
   ]
  },
  {
   "cell_type": "markdown",
   "metadata": {
    "collapsed": true
   },
   "source": [
    "![libreria](libr3.png)"
   ]
  },
  {
   "cell_type": "markdown",
   "metadata": {
    "collapsed": true
   },
   "source": [
    "Stanza\n",
    "----------"
   ]
  },
  {
   "cell_type": "code",
   "execution_count": 1,
   "metadata": {
    "collapsed": false
   },
   "outputs": [
    {
     "name": "stdout",
     "output_type": "stream",
     "text": [
      "Evaluating fenvs.py..\n",
      "...fenvs.py imported in 0.006067 seconds\n"
     ]
    },
    {
     "name": "stderr",
     "output_type": "stream",
     "text": [
      "/usr/local/lib/python2.7/dist-packages/larlib/larstruct.py:233: FutureWarning: comparison to `None` will result in an elementwise object comparison in the future.\n",
      "  self.body = [item for item in data if item != None]\n"
     ]
    }
   ],
   "source": [
    "from stanzaa import *\n"
   ]
  },
  {
   "cell_type": "code",
   "execution_count": 2,
   "metadata": {
    "collapsed": false
   },
   "outputs": [
    {
     "data": {
      "text/plain": [
       "<pyplasm.xgepy.Hpc; proxy of <Swig Object of type 'std::shared_ptr< Hpc > *' at 0xad434a88> >"
      ]
     },
     "execution_count": 2,
     "metadata": {},
     "output_type": "execute_result"
    }
   ],
   "source": [
    "VIEW(ggpl_my_room(1, 1, 1))"
   ]
  },
  {
   "cell_type": "markdown",
   "metadata": {},
   "source": [
    "![stanza](room3.png)"
   ]
  },
  {
   "cell_type": "markdown",
   "metadata": {
    "collapsed": true
   },
   "source": [
    "![stanza](room2.png)"
   ]
  },
  {
   "cell_type": "markdown",
   "metadata": {
    "collapsed": true
   },
   "source": [
    "![stanza](room1.png)"
   ]
  },
  {
   "cell_type": "code",
   "execution_count": null,
   "metadata": {
    "collapsed": true
   },
   "outputs": [],
   "source": []
  }
 ],
 "metadata": {
  "kernelspec": {
   "display_name": "Python 2",
   "language": "python",
   "name": "python2"
  },
  "language_info": {
   "codemirror_mode": {
    "name": "ipython",
    "version": 2
   },
   "file_extension": ".py",
   "mimetype": "text/x-python",
   "name": "python",
   "nbconvert_exporter": "python",
   "pygments_lexer": "ipython2",
   "version": "2.7.12"
  }
 },
 "nbformat": 4,
 "nbformat_minor": 1
}
