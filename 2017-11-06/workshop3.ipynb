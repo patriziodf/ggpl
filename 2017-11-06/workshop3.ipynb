{
 "cells": [
  {
   "cell_type": "markdown",
   "metadata": {},
   "source": [
    "Laboratorio 06 11 2017\n",
    "==============="
   ]
  },
  {
   "cell_type": "markdown",
   "metadata": {},
   "source": [
    "Workshop 3\n",
    "========="
   ]
  },
  {
   "cell_type": "markdown",
   "metadata": {},
   "source": [
    "Leonardo scheme\n",
    "==============="
   ]
  },
  {
   "cell_type": "markdown",
   "metadata": {},
   "source": [
    "[leonardo](http://www.museoscienza.org/english/leonardo/models/macchina-leo.asp?id_macchina=105)"
   ]
  },
  {
   "cell_type": "markdown",
   "metadata": {},
   "source": [
    "![schema](leonardo.jpg)"
   ]
  },
  {
   "cell_type": "markdown",
   "metadata": {},
   "source": [
    "base_a ; base_b ; base_c sono le tre spirali iniizali che costituiscono la base della struttura poi unite in base con la struct\n",
    "\n",
    "blocco blocco_diff e blocco1 sono i cilindri della struttura principale, blocco diff serve per fare la differenza e avere a struttura cava\n",
    "\n",
    "colonnina e cupoletta sono rispettivamente la base e la cupola delle 8 cupolette posta sopra la struttura\n",
    "tetto è la parte che divide la struttura base con le cupolette\n",
    "\n",
    "cupolone è la cupola più grande\n",
    "\n",
    "bas_puntale col_puntale e tet_puntale rappresentano base colonna e tetto del puntale posto sopra il cupolone\n",
    "\n",
    "sono presenti inoltre altre varibaili ausiliari di poco conto\n",
    "\n",
    "\n",
    "\n"
   ]
  },
  {
   "cell_type": "markdown",
   "metadata": {},
   "source": [
    "Versione iniziale fatta durante la lezione\n",
    "=============================="
   ]
  },
  {
   "cell_type": "code",
   "execution_count": 2,
   "metadata": {
    "collapsed": false
   },
   "outputs": [
    {
     "name": "stdout",
     "output_type": "stream",
     "text": [
      "Evaluating fenvs.py..\n",
      "...fenvs.py imported in 0.011583 seconds\n"
     ]
    },
    {
     "name": "stderr",
     "output_type": "stream",
     "text": [
      "/usr/local/lib/python2.7/dist-packages/larlib/larstruct.py:233: FutureWarning: comparison to `None` will result in an elementwise object comparison in the future.\n",
      "  self.body = [item for item in data if item != None]\n"
     ]
    }
   ],
   "source": [
    "from larlib import *\n",
    "\n",
    "\"\"\"funzione dei colori \"\"\"\n",
    "def HEX(color, alpha = 1):\n",
    "\n",
    "\tdef hex_to_rgb(value):\n",
    "\t\tvalue = value.lstrip('#')\n",
    "\t\tlv = len(value)\n",
    "\t\treturn tuple(int(value[i:i + lv // 3], 16) for i in range(0, lv, lv // 3))\n",
    "\n",
    "\trgb = hex_to_rgb(color)\n",
    "\n",
    "\treturn COLOR(Color4f([rgb[0]/255., rgb[1]/255., rgb[2]/255., alpha]))\n",
    "\n",
    "def SEMISPHERE (radius):\n",
    "\tdef SPHERE0 (subds):\n",
    "\t\tN , M = subds\n",
    "\t\tdomain = Plasm.translate( Plasm.power(INTERVALS(PI/2)(N) , INTERVALS(2*PI)(M)), Vecf(0, -PI/2,0 ) )\n",
    "\t\tfx = lambda p: radius * math.cos(p[0]) * math.sin (p[1])\n",
    "\t\tfy = lambda p: radius * math.cos(p[0]) * math.cos (p[1])\n",
    "\t\tfz = lambda p: radius * math.sin(p[0])\n",
    "\t\tret= MAP([fx, fy, fz])(domain)\n",
    "\t\treturn ret\n",
    "\treturn SPHERE0\n",
    "\n",
    "def disponi_circolarmente(object, aggiungi_raggio = 9):\n",
    "\tN = 8\n",
    "\tr = 40-40/2-1.5-1 + aggiungi_raggio\n",
    "\treturn STRUCT(map(lambda i: T([1, 2])([r*math.cos((2*PI/8)*i), r*math.sin((2*PI/8)*i)])(object), range(0, 8)))\n",
    "\n",
    "\n",
    "def leonardo(x,y,z,gradino):\n",
    "\n",
    "\tbase_a=CYLINDER([x,gradino])(40)\n",
    "\tbase_b=CYLINDER([x-1.5,gradino])(40)\n",
    "\tbase_b=T(3)(gradino)(base_b)\n",
    "\tbase_c=CYLINDER([x-3,gradino])(40)\n",
    "\tbase_c=T(3)(gradino*2)(base_c)\n",
    "\tbase=STRUCT([base_a,base_b,base_c])\n",
    "\t\"\"\"VIEW(base)\"\"\"\n",
    "\tblocco1=CYLINDER([x-gradino*3,y])(30)\n",
    "\tblocco1=T(3)(gradino*3)(blocco1)\n",
    "\tbloccodiff=CYLINDER([x*0.5,y])(30)\n",
    "\tbloccodiff=T(3)(gradino*3)(bloccodiff)\n",
    "\tblocco1=DIFFERENCE([blocco1,bloccodiff])\n",
    "\tblocco=STRUCT([blocco1,base])\n",
    "\t\"\"\"VIEW(blocco)\"\"\"\n",
    "\t\n",
    "\tcolonnina=CYLINDER([x*0.25-gradino,y])(8)\n",
    "\tcupoletta=SEMISPHERE(x*0.25-gradino)([8,8])\n",
    "\tbase_cil=CYLINDER([x*0.25-gradino/2,0.1])(40)\n",
    "\tcolonn=STRUCT([colonnina,cupoletta,base_cil])\n",
    "\tcolonn=R([1,3])(-PI)(colonn)\n",
    "\ta=disponi_circolarmente(colonn)\n",
    "\ta=T(3)(y+gradino*11)(a)\n",
    "\t\"\"\"col1=T(3)(gradino*3+y+6)(colonn)\n",
    "\tcol1=T(1)(-x*0.69)(col1)\n",
    "\tblocco=STRUCT([blocco,col1])\"\"\"\n",
    "\n",
    "\n",
    "\t\"\"\"VIEW(blocco)\"\"\"\n",
    "\ttetto1=CYLINDER([x-4,gradino])(40)\n",
    "\ttetto1=T(3)(y+gradino*3)(tetto1)\n",
    "\ttetto2=CYLINDER([x-3.5,gradino*3])(40)\n",
    "\ttetto2=T(3)(y+gradino*4)(tetto2)\n",
    "\ttetto=STRUCT([tetto2,tetto1])\n",
    "\tblocco=STRUCT([blocco,tetto])\n",
    "\n",
    "\tcolonna=CYLINDER([x*0.5-gradino,y*2.5])(20)\n",
    "\tbase_col=CYLINDER([x*0.5,2])(40)\n",
    "\t\"\"\"base_col=T(3)(y*2.5)(base_col)\"\"\"\n",
    "\t\"\"\"colonna=STRUCT([colonna,base_col])\"\"\"\n",
    "\tcupolone=SEMISPHERE(x*0.5-gradino)([8,8])\n",
    "\tcupolone=R([1,3])(-PI)(cupolone)\n",
    "\tcupolone=T(3)(y*2.5)(cupolone)\n",
    "\tc=STRUCT([cupolone,base_col])\n",
    "\tc=T(3)(y*2.5)(c)\n",
    "\tcolonna=STRUCT([colonna,base_col,cupolone])\n",
    "\n",
    "\tbas_puntale=CYLINDER([x*0.1,gradino])(40)\n",
    "\tcol_puntale=CYLINDER([x*0.05,gradino*5])(40)\n",
    "\ttet_puntale=T(3)(gradino*5)(bas_puntale)\n",
    "\tpuntale=STRUCT([bas_puntale,col_puntale,tet_puntale])\n",
    "\tpuntale=T(3)(y*2.5+x*0.5-gradino)(puntale)\n",
    "\n",
    "\t\"\"\"\n",
    "\tcroce_b=CUBOID([9*0.8,3*0.8,3*0.8])\n",
    "\tcroce_h=CUBOID([3*0.8,3*0.8,12*0.8])\n",
    "\tcroce_b=T([1,3])([-3*0.8,6*0.8])(croce_b)\n",
    "\tcroce=STRUCT([croce_b,croce_h])\n",
    "\tcroce=T([1,2,3])([-1.5,-1.5,y*2.5+x*0.5-gradino+gradino*6])(croce)\"\"\"\n",
    "\n",
    "\n",
    "\n",
    "\t\n",
    "\n",
    "\t\"\"\"return blocco\"\"\"\n",
    "\tleo= STRUCT([a,blocco,colonna,puntale])\n",
    "\tleo=HEX(\"#cc9966\")(leo)\n",
    "\treturn leo"
   ]
  },
  {
   "cell_type": "code",
   "execution_count": 4,
   "metadata": {
    "collapsed": false
   },
   "outputs": [
    {
     "data": {
      "text/plain": [
       "<pyplasm.xgepy.Hpc; proxy of <Swig Object of type 'std::shared_ptr< Hpc > *' at 0xad2cfab8> >"
      ]
     },
     "execution_count": 4,
     "metadata": {},
     "output_type": "execute_result"
    }
   ],
   "source": [
    "b=leonardo(40,20,3,1.5)\n",
    "VIEW(b)"
   ]
  },
  {
   "cell_type": "markdown",
   "metadata": {},
   "source": [
    "![leo1](leo1.png)"
   ]
  },
  {
   "cell_type": "markdown",
   "metadata": {},
   "source": [
    "![leo2](leo2.png)"
   ]
  },
  {
   "cell_type": "markdown",
   "metadata": {
    "collapsed": true
   },
   "source": [
    "Versione aggiornata\n",
    "====================="
   ]
  },
  {
   "cell_type": "code",
   "execution_count": 10,
   "metadata": {
    "collapsed": false
   },
   "outputs": [],
   "source": [
    "from larlib import *\n",
    "from workshop3v2 import *"
   ]
  },
  {
   "cell_type": "markdown",
   "metadata": {},
   "source": [
    "Torre tipo 1\n",
    "-------------"
   ]
  },
  {
   "cell_type": "markdown",
   "metadata": {},
   "source": [
    "Chiusa\n",
    "------"
   ]
  },
  {
   "cell_type": "code",
   "execution_count": 2,
   "metadata": {
    "collapsed": false
   },
   "outputs": [
    {
     "name": "stdout",
     "output_type": "stream",
     "text": [
      "Child 3\n"
     ]
    },
    {
     "data": {
      "text/plain": [
       "<pyplasm.xgepy.Hpc; proxy of <Swig Object of type 'std::shared_ptr< Hpc > *' at 0xb5172dd0> >"
      ]
     },
     "execution_count": 2,
     "metadata": {},
     "output_type": "execute_result"
    }
   ],
   "source": [
    "VIEW(STRUCT([torretta(1.1, 0.9, 2.5, 200)(0.3, 0.2, 0.07, 0.2),TEXTURE(\"tegole2.png\")(T(3)(3)(HALFSPHERE(1.1)([16, 16])))]))"
   ]
  },
  {
   "cell_type": "code",
   "execution_count": 3,
   "metadata": {
    "collapsed": false
   },
   "outputs": [
    {
     "data": {
      "text/plain": [
       "<pyplasm.xgepy.Hpc; proxy of <Swig Object of type 'std::shared_ptr< Hpc > *' at 0xad448b18> >"
      ]
     },
     "execution_count": 3,
     "metadata": {},
     "output_type": "execute_result"
    }
   ],
   "source": [
    "VIEW(STRUCT([torretta(1.1, 0.9, 2.5, 200)(0.3, 0.2, 0.07, 0.2)]))"
   ]
  },
  {
   "cell_type": "markdown",
   "metadata": {},
   "source": [
    "![torrepiccola](t1.png)"
   ]
  },
  {
   "cell_type": "markdown",
   "metadata": {},
   "source": [
    "![torrepiccola](t2.png)"
   ]
  },
  {
   "cell_type": "markdown",
   "metadata": {},
   "source": [
    "Aperta\n",
    "--------"
   ]
  },
  {
   "cell_type": "markdown",
   "metadata": {},
   "source": [
    "![torrepiccola](t3.png)"
   ]
  },
  {
   "cell_type": "markdown",
   "metadata": {},
   "source": [
    "Torre tipo 2\n",
    "-----------"
   ]
  },
  {
   "cell_type": "code",
   "execution_count": 4,
   "metadata": {
    "collapsed": false
   },
   "outputs": [
    {
     "name": "stdout",
     "output_type": "stream",
     "text": [
      "Child 3\n"
     ]
    },
    {
     "data": {
      "text/plain": [
       "<pyplasm.xgepy.Hpc; proxy of <Swig Object of type 'std::shared_ptr< Hpc > *' at 0xad448998> >"
      ]
     },
     "execution_count": 4,
     "metadata": {},
     "output_type": "execute_result"
    }
   ],
   "source": [
    "VIEW(STRUCT([torremedia1(1.3, 1.1, 1.2)(0.2, 0.3, 0.15, 0.3), TEXTURE(\"tegole2.png\")(T(3)(1.7)(HALFSPHERE(1.3)([16, 16])))]))"
   ]
  },
  {
   "cell_type": "markdown",
   "metadata": {},
   "source": [
    "![torrepiccola](t4.png)"
   ]
  },
  {
   "cell_type": "markdown",
   "metadata": {},
   "source": [
    "![torrepiccola](t5.png)"
   ]
  },
  {
   "cell_type": "markdown",
   "metadata": {
    "collapsed": true
   },
   "source": [
    "Torre 3\n",
    "--------"
   ]
  },
  {
   "cell_type": "code",
   "execution_count": 4,
   "metadata": {
    "collapsed": false
   },
   "outputs": [
    {
     "name": "stdout",
     "output_type": "stream",
     "text": [
      "Child 3\n"
     ]
    },
    {
     "data": {
      "text/plain": [
       "<pyplasm.xgepy.Hpc; proxy of <Swig Object of type 'std::shared_ptr< Hpc > *' at 0xad49cfb0> >"
      ]
     },
     "execution_count": 4,
     "metadata": {},
     "output_type": "execute_result"
    }
   ],
   "source": [
    "VIEW(STRUCT([torremedia2(1.6, 1.4, 1.5)(0.25, 0.25, 0.1, 0.25), TEXTURE(\"tegole2.png\")(T(3)(2)(HALFSPHERE(1.6)([16, 16])))]))"
   ]
  },
  {
   "cell_type": "markdown",
   "metadata": {},
   "source": [
    "![torrepiccola](t6.png)"
   ]
  },
  {
   "cell_type": "markdown",
   "metadata": {},
   "source": [
    "Torre 4\n",
    "----------"
   ]
  },
  {
   "cell_type": "code",
   "execution_count": 5,
   "metadata": {
    "collapsed": false
   },
   "outputs": [
    {
     "name": "stdout",
     "output_type": "stream",
     "text": [
      "Child 3\n"
     ]
    },
    {
     "data": {
      "text/plain": [
       "<pyplasm.xgepy.Hpc; proxy of <Swig Object of type 'std::shared_ptr< Hpc > *' at 0xad49c668> >"
      ]
     },
     "execution_count": 5,
     "metadata": {},
     "output_type": "execute_result"
    }
   ],
   "source": [
    "VIEW(STRUCT([torregrande(3, 2.8, 3)(0.5, 0.5, 0.2, 0.35), TEXTURE(\"tegole2.png\")(T(3)(4)(HALFSPHERE(2.8)([16, 16])))]))"
   ]
  },
  {
   "cell_type": "markdown",
   "metadata": {},
   "source": [
    "![torrepiccola](t7.png)"
   ]
  },
  {
   "cell_type": "markdown",
   "metadata": {},
   "source": [
    "Blocco con torri\n",
    "-------------"
   ]
  },
  {
   "cell_type": "code",
   "execution_count": 9,
   "metadata": {
    "collapsed": false
   },
   "outputs": [
    {
     "name": "stdout",
     "output_type": "stream",
     "text": [
      "Child 3\n",
      "Child 3\n"
     ]
    },
    {
     "data": {
      "text/plain": [
       "<pyplasm.xgepy.Hpc; proxy of <Swig Object of type 'std::shared_ptr< Hpc > *' at 0xad183188> >"
      ]
     },
     "execution_count": 9,
     "metadata": {},
     "output_type": "execute_result"
    }
   ],
   "source": [
    "VIEW(Torri())"
   ]
  },
  {
   "cell_type": "markdown",
   "metadata": {},
   "source": [
    "![torri](t8.png)"
   ]
  },
  {
   "cell_type": "markdown",
   "metadata": {
    "collapsed": true
   },
   "source": [
    "![torri](t9.png)"
   ]
  },
  {
   "cell_type": "markdown",
   "metadata": {
    "collapsed": true
   },
   "source": [
    "![torri](t10.png)"
   ]
  },
  {
   "cell_type": "markdown",
   "metadata": {},
   "source": [
    "Senza copertura\n",
    "----------"
   ]
  },
  {
   "cell_type": "markdown",
   "metadata": {
    "collapsed": true
   },
   "source": [
    "![torri senza tetto](t11.png)"
   ]
  },
  {
   "cell_type": "markdown",
   "metadata": {
    "collapsed": true
   },
   "source": [
    "Struttura completa\n",
    "=============="
   ]
  },
  {
   "cell_type": "code",
   "execution_count": 11,
   "metadata": {
    "collapsed": false
   },
   "outputs": [
    {
     "name": "stdout",
     "output_type": "stream",
     "text": [
      "Child 3\n",
      "Child 3\n",
      "Child 3\n",
      "Child 3\n"
     ]
    },
    {
     "data": {
      "text/plain": [
       "<pyplasm.xgepy.Hpc; proxy of <Swig Object of type 'std::shared_ptr< Hpc > *' at 0xad183650> >"
      ]
     },
     "execution_count": 11,
     "metadata": {},
     "output_type": "execute_result"
    }
   ],
   "source": [
    "VIEW(ggpl_leonardoChurch(24, 24, 16))"
   ]
  },
  {
   "cell_type": "markdown",
   "metadata": {},
   "source": [
    "![completa](h1.png)"
   ]
  },
  {
   "cell_type": "markdown",
   "metadata": {},
   "source": [
    "![completa](h2.png)"
   ]
  },
  {
   "cell_type": "markdown",
   "metadata": {},
   "source": [
    "![completa](h3.png)"
   ]
  },
  {
   "cell_type": "markdown",
   "metadata": {},
   "source": [
    "![completa](h4.png)"
   ]
  },
  {
   "cell_type": "markdown",
   "metadata": {},
   "source": [
    "![completa](h5.png)"
   ]
  },
  {
   "cell_type": "markdown",
   "metadata": {},
   "source": [
    "![completa](h6.png)"
   ]
  },
  {
   "cell_type": "markdown",
   "metadata": {},
   "source": [
    "![completa](h7.png)"
   ]
  },
  {
   "cell_type": "markdown",
   "metadata": {},
   "source": [
    "![completa](h8.png)"
   ]
  },
  {
   "cell_type": "code",
   "execution_count": null,
   "metadata": {
    "collapsed": true
   },
   "outputs": [],
   "source": []
  },
  {
   "cell_type": "code",
   "execution_count": null,
   "metadata": {
    "collapsed": true
   },
   "outputs": [],
   "source": []
  }
 ],
 "metadata": {
  "kernelspec": {
   "display_name": "Python 2",
   "language": "python",
   "name": "python2"
  },
  "language_info": {
   "codemirror_mode": {
    "name": "ipython",
    "version": 2
   },
   "file_extension": ".py",
   "mimetype": "text/x-python",
   "name": "python",
   "nbconvert_exporter": "python",
   "pygments_lexer": "ipython2",
   "version": "2.7.12"
  }
 },
 "nbformat": 4,
 "nbformat_minor": 1
}
